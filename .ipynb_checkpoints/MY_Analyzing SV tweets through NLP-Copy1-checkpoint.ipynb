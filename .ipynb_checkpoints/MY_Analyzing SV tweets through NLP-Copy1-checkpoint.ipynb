{
 "cells": [
  {
   "cell_type": "markdown",
   "metadata": {},
   "source": [
    "# Sentiment analysis of tweets from top 26 Silicon Valley (SV) influencers. "
   ]
  },
  {
   "cell_type": "markdown",
   "metadata": {},
   "source": [
    "In this part i will try to make some analysis of earlier created dataset. Will use different methods of NLP, mostly NLTK but also Gensim. The full list of used packages is described in window below.\n",
    "\n",
    "\n",
    "**Data**: time-series data of tweets from a curated list of SV most followed people\n",
    "\n",
    "**Dataset**: dataset which i use was manually extracted from the Twitter API into .CSV (as you can see in the first notebook i have sended)"
   ]
  },
  {
   "cell_type": "markdown",
   "metadata": {},
   "source": [
    "## Preparing data science packages\n",
    "\n",
    "This project was written in Python language and libraries and packages used here are chosen on this base. "
   ]
  },
  {
   "cell_type": "code",
   "execution_count": 1,
   "metadata": {},
   "outputs": [],
   "source": [
    "# Data science toolbox:\n",
    "import pandas as pd  # it let me to put collected and analysing information into dataframe object for data manipulation\n",
    "import numpy as np  # it is library for scientific computing in Python. I need it becouse it provides a high-performance \n",
    "                    # multidimensional array object, and tools for working with these arrays. "
   ]
  },
  {
   "cell_type": "code",
   "execution_count": 2,
   "metadata": {},
   "outputs": [],
   "source": [
    "# NLP toolbox:\n",
    "\n",
    "## NLTK- Natural Language Toolkit Python is package that provides a set of natural languages corpora and APIs to an impressing \n",
    "## diversity of NLP algorithms. \n",
    "\n",
    "import nltk # particular moduls will be described when used\n",
    "\n",
    "from nltk import word_tokenize, pos_tag, pos_tag_sents, WordPunctTokenizer\n",
    "from nltk.tag import StanfordNERTagger\n",
    "from nltk.sentiment.vader import SentimentIntensityAnalyzer as SIA\n",
    "from nltk.stem import WordNetLemmatizer, SnowballStemmer\n",
    "from nltk.stem.porter import *\n",
    "from nltk.corpus import wordnet as wn, stopwords\n",
    "\n",
    "# Other\n",
    "import datetime   # module which works with dates as date objects\n",
    "from datetime import timedelta\n",
    "\n",
    "import json # JavaScript Object Notation- a syntax for storing and exchanging data\n",
    "import glob  # enables use of asterix notation in directory listing\n",
    "from ast import literal_eval # Abstract Syntax Trees- will be used to format strings\n",
    "\n",
    "from collections import Counter # A Counter is a container that keeps track of how many times equivalent values are added\n",
    "from itertools import chain\n",
    "import random"
   ]
  },
  {
   "cell_type": "code",
   "execution_count": 3,
   "metadata": {},
   "outputs": [
    {
     "name": "stdout",
     "output_type": "stream",
     "text": [
      "[nltk_data] Downloading package vader_lexicon to\n",
      "[nltk_data]     C:\\Users\\Magda\\AppData\\Roaming\\nltk_data...\n",
      "[nltk_data]   Package vader_lexicon is already up-to-date!\n",
      "[nltk_data] Downloading package punkt to\n",
      "[nltk_data]     C:\\Users\\Magda\\AppData\\Roaming\\nltk_data...\n",
      "[nltk_data]   Package punkt is already up-to-date!\n",
      "[nltk_data] Downloading package averaged_perceptron_tagger to\n",
      "[nltk_data]     C:\\Users\\Magda\\AppData\\Roaming\\nltk_data...\n",
      "[nltk_data]   Package averaged_perceptron_tagger is already up-to-\n",
      "[nltk_data]       date!\n",
      "[nltk_data] Downloading package maxent_ne_chunker to\n",
      "[nltk_data]     C:\\Users\\Magda\\AppData\\Roaming\\nltk_data...\n",
      "[nltk_data]   Package maxent_ne_chunker is already up-to-date!\n",
      "[nltk_data] Downloading package words to\n",
      "[nltk_data]     C:\\Users\\Magda\\AppData\\Roaming\\nltk_data...\n",
      "[nltk_data]   Package words is already up-to-date!\n",
      "[nltk_data] Downloading package wordnet to\n",
      "[nltk_data]     C:\\Users\\Magda\\AppData\\Roaming\\nltk_data...\n",
      "[nltk_data]   Package wordnet is already up-to-date!\n"
     ]
    },
    {
     "data": {
      "text/plain": [
       "True"
      ]
     },
     "execution_count": 3,
     "metadata": {},
     "output_type": "execute_result"
    }
   ],
   "source": [
    "# Downloads neccesary NLTK packages (tools, corpora and tagged dictionaires) in case they are not installed already\n",
    "\n",
    "nltk.download('vader_lexicon')  \n",
    "nltk.download('punkt')\n",
    "nltk.download('averaged_perceptron_tagger') \n",
    "nltk.download('maxent_ne_chunker')\n",
    "nltk.download('words')\n",
    "nltk.download('wordnet')\n",
    "\n"
   ]
  },
  {
   "cell_type": "code",
   "execution_count": 4,
   "metadata": {},
   "outputs": [
    {
     "data": {
      "text/html": [
       "<script>requirejs.config({paths: { 'plotly': ['https://cdn.plot.ly/plotly-latest.min']},});if(!window.Plotly) {{require(['plotly'],function(plotly) {window.Plotly=plotly;});}}</script>"
      ],
      "text/vnd.plotly.v1+html": [
       "<script>requirejs.config({paths: { 'plotly': ['https://cdn.plot.ly/plotly-latest.min']},});if(!window.Plotly) {{require(['plotly'],function(plotly) {window.Plotly=plotly;});}}</script>"
      ]
     },
     "metadata": {},
     "output_type": "display_data"
    },
    {
     "name": "stdout",
     "output_type": "stream",
     "text": [
      "Plotly packages initiated locally\n"
     ]
    }
   ],
   "source": [
    "# Visualization tools\n",
    "\n",
    "## Seaborn -will add styles to the matplotlib graphs\n",
    "import seaborn as sns\n",
    "\n",
    "## Plotly -python library which let create graphs\n",
    "import plotly\n",
    "import plotly.plotly as py\n",
    "import plotly.graph_objs as go\n",
    "from plotly.offline import download_plotlyjs, init_notebook_mode, plot, iplot\n",
    "\n",
    "plotly.offline.init_notebook_mode(connected=True)\n",
    "print(f'Plotly packages initiated locally')\n",
    "\n",
    "import matplotlib.pyplot as plt\n",
    "from pywaffle import Waffle"
   ]
  },
  {
   "cell_type": "code",
   "execution_count": 5,
   "metadata": {},
   "outputs": [],
   "source": [
    "# Disable here a warning on deprecated chained assignments\n",
    "\n",
    "pd.options.mode.chained_assignment = None"
   ]
  },
  {
   "cell_type": "markdown",
   "metadata": {},
   "source": [
    "## Reading dataset\n",
    "\n",
    "On the begging of analysis there has to be define dataset which will be analysed. I am going to use created by myself dataset with tweets from top 26 Silicon Valley (SV) influencers which was saved as csv file named dataset-sv-201808.csv"
   ]
  },
  {
   "cell_type": "markdown",
   "metadata": {},
   "source": [
    "### From a CSV file\n",
    "\n",
    "I am using here pandas to read the `csv file` to create a Python object with rows and columns called data frame that looks very similar to table in a statistical software \n",
    "\n",
    "`dtype` change defined columns into integers "
   ]
  },
  {
   "cell_type": "code",
   "execution_count": 6,
   "metadata": {},
   "outputs": [
    {
     "data": {
      "text/plain": [
       "'Successfully read 15367 rows of data with 29 columns'"
      ]
     },
     "execution_count": 6,
     "metadata": {},
     "output_type": "execute_result"
    }
   ],
   "source": [
    "dataset = pd.read_csv('dataset/dataset-sv-201808.csv', encoding = 'utf8', \n",
    "                      dtype={'favorite_count': 'int64', 'retweet_count': 'int64',\n",
    "                            'hashtags_count': 'int64', 'symbols_count': 'int64',\n",
    "                            'user_mentions_count': 'int64', 'urls_count': 'int64',})\n",
    "\n",
    "f'Successfully read {len(dataset)} rows of data with {len(dataset.columns)} columns'"
   ]
  },
  {
   "cell_type": "markdown",
   "metadata": {},
   "source": [
    "### First glance at data"
   ]
  },
  {
   "cell_type": "code",
   "execution_count": 7,
   "metadata": {},
   "outputs": [
    {
     "data": {
      "text/html": [
       "<div>\n",
       "<style scoped>\n",
       "    .dataframe tbody tr th:only-of-type {\n",
       "        vertical-align: middle;\n",
       "    }\n",
       "\n",
       "    .dataframe tbody tr th {\n",
       "        vertical-align: top;\n",
       "    }\n",
       "\n",
       "    .dataframe thead th {\n",
       "        text-align: right;\n",
       "    }\n",
       "</style>\n",
       "<table border=\"1\" class=\"dataframe\">\n",
       "  <thead>\n",
       "    <tr style=\"text-align: right;\">\n",
       "      <th></th>\n",
       "      <th>screen_name</th>\n",
       "      <th>id</th>\n",
       "      <th>created_at</th>\n",
       "      <th>text</th>\n",
       "      <th>geo</th>\n",
       "      <th>place</th>\n",
       "      <th>is_quote_status</th>\n",
       "      <th>has_hashtags</th>\n",
       "      <th>has_symbols</th>\n",
       "      <th>has_user_mentions</th>\n",
       "      <th>...</th>\n",
       "      <th>favorited</th>\n",
       "      <th>retweeted</th>\n",
       "      <th>lang</th>\n",
       "      <th>in_reply_to_status_id</th>\n",
       "      <th>in_reply_to_status_id_str</th>\n",
       "      <th>in_reply_to_user_id</th>\n",
       "      <th>in_reply_to_user_id_str</th>\n",
       "      <th>in_reply_to_screen_name</th>\n",
       "      <th>delta_followers</th>\n",
       "      <th>followers_count</th>\n",
       "    </tr>\n",
       "  </thead>\n",
       "  <tbody>\n",
       "    <tr>\n",
       "      <th>0</th>\n",
       "      <td>cdixon</td>\n",
       "      <td>1038564797309177857</td>\n",
       "      <td>2018-09-08 23:08:37</td>\n",
       "      <td>b'Really enjoyed this discussion with @stevenb...</td>\n",
       "      <td>NaN</td>\n",
       "      <td>NaN</td>\n",
       "      <td>False</td>\n",
       "      <td>False</td>\n",
       "      <td>False</td>\n",
       "      <td>True</td>\n",
       "      <td>...</td>\n",
       "      <td>False</td>\n",
       "      <td>False</td>\n",
       "      <td>en</td>\n",
       "      <td>NaN</td>\n",
       "      <td>NaN</td>\n",
       "      <td>NaN</td>\n",
       "      <td>NaN</td>\n",
       "      <td>NaN</td>\n",
       "      <td>-4.0</td>\n",
       "      <td>576650.0</td>\n",
       "    </tr>\n",
       "    <tr>\n",
       "      <th>1</th>\n",
       "      <td>cdixon</td>\n",
       "      <td>1037739767272808449</td>\n",
       "      <td>2018-09-06 16:30:15</td>\n",
       "      <td>b'Excited to welcome Dan Boneh to the a16z cry...</td>\n",
       "      <td>NaN</td>\n",
       "      <td>NaN</td>\n",
       "      <td>False</td>\n",
       "      <td>False</td>\n",
       "      <td>False</td>\n",
       "      <td>False</td>\n",
       "      <td>...</td>\n",
       "      <td>False</td>\n",
       "      <td>False</td>\n",
       "      <td>en</td>\n",
       "      <td>NaN</td>\n",
       "      <td>NaN</td>\n",
       "      <td>NaN</td>\n",
       "      <td>NaN</td>\n",
       "      <td>NaN</td>\n",
       "      <td>26.0</td>\n",
       "      <td>576726.0</td>\n",
       "    </tr>\n",
       "    <tr>\n",
       "      <th>2</th>\n",
       "      <td>cdixon</td>\n",
       "      <td>1034830369025974272</td>\n",
       "      <td>2018-08-29 15:49:20</td>\n",
       "      <td>b'RT @ali01: Decentralized networks like DFINI...</td>\n",
       "      <td>NaN</td>\n",
       "      <td>NaN</td>\n",
       "      <td>False</td>\n",
       "      <td>False</td>\n",
       "      <td>False</td>\n",
       "      <td>True</td>\n",
       "      <td>...</td>\n",
       "      <td>False</td>\n",
       "      <td>False</td>\n",
       "      <td>en</td>\n",
       "      <td>NaN</td>\n",
       "      <td>NaN</td>\n",
       "      <td>NaN</td>\n",
       "      <td>NaN</td>\n",
       "      <td>NaN</td>\n",
       "      <td>19.0</td>\n",
       "      <td>576516.0</td>\n",
       "    </tr>\n",
       "    <tr>\n",
       "      <th>3</th>\n",
       "      <td>cdixon</td>\n",
       "      <td>1032404207339356162</td>\n",
       "      <td>2018-08-22 23:08:38</td>\n",
       "      <td>b'RT @bhorowitz: I am very excited to announce...</td>\n",
       "      <td>NaN</td>\n",
       "      <td>NaN</td>\n",
       "      <td>False</td>\n",
       "      <td>False</td>\n",
       "      <td>False</td>\n",
       "      <td>True</td>\n",
       "      <td>...</td>\n",
       "      <td>False</td>\n",
       "      <td>False</td>\n",
       "      <td>en</td>\n",
       "      <td>NaN</td>\n",
       "      <td>NaN</td>\n",
       "      <td>NaN</td>\n",
       "      <td>NaN</td>\n",
       "      <td>NaN</td>\n",
       "      <td>11.0</td>\n",
       "      <td>576411.0</td>\n",
       "    </tr>\n",
       "    <tr>\n",
       "      <th>4</th>\n",
       "      <td>cdixon</td>\n",
       "      <td>1025251680466558976</td>\n",
       "      <td>2018-08-03 05:27:03</td>\n",
       "      <td>b'Woz and Jobs at Apple, 1977. https://t.co/Ac...</td>\n",
       "      <td>NaN</td>\n",
       "      <td>NaN</td>\n",
       "      <td>False</td>\n",
       "      <td>False</td>\n",
       "      <td>False</td>\n",
       "      <td>False</td>\n",
       "      <td>...</td>\n",
       "      <td>False</td>\n",
       "      <td>False</td>\n",
       "      <td>en</td>\n",
       "      <td>NaN</td>\n",
       "      <td>NaN</td>\n",
       "      <td>NaN</td>\n",
       "      <td>NaN</td>\n",
       "      <td>NaN</td>\n",
       "      <td>NaN</td>\n",
       "      <td>NaN</td>\n",
       "    </tr>\n",
       "  </tbody>\n",
       "</table>\n",
       "<p>5 rows × 29 columns</p>\n",
       "</div>"
      ],
      "text/plain": [
       "  screen_name                   id           created_at  \\\n",
       "0      cdixon  1038564797309177857  2018-09-08 23:08:37   \n",
       "1      cdixon  1037739767272808449  2018-09-06 16:30:15   \n",
       "2      cdixon  1034830369025974272  2018-08-29 15:49:20   \n",
       "3      cdixon  1032404207339356162  2018-08-22 23:08:38   \n",
       "4      cdixon  1025251680466558976  2018-08-03 05:27:03   \n",
       "\n",
       "                                                text  geo place  \\\n",
       "0  b'Really enjoyed this discussion with @stevenb...  NaN   NaN   \n",
       "1  b'Excited to welcome Dan Boneh to the a16z cry...  NaN   NaN   \n",
       "2  b'RT @ali01: Decentralized networks like DFINI...  NaN   NaN   \n",
       "3  b'RT @bhorowitz: I am very excited to announce...  NaN   NaN   \n",
       "4  b'Woz and Jobs at Apple, 1977. https://t.co/Ac...  NaN   NaN   \n",
       "\n",
       "   is_quote_status  has_hashtags  has_symbols  has_user_mentions  \\\n",
       "0            False         False        False               True   \n",
       "1            False         False        False              False   \n",
       "2            False         False        False               True   \n",
       "3            False         False        False               True   \n",
       "4            False         False        False              False   \n",
       "\n",
       "        ...         favorited  retweeted  lang  in_reply_to_status_id  \\\n",
       "0       ...             False      False    en                    NaN   \n",
       "1       ...             False      False    en                    NaN   \n",
       "2       ...             False      False    en                    NaN   \n",
       "3       ...             False      False    en                    NaN   \n",
       "4       ...             False      False    en                    NaN   \n",
       "\n",
       "   in_reply_to_status_id_str in_reply_to_user_id  in_reply_to_user_id_str  \\\n",
       "0                        NaN                 NaN                      NaN   \n",
       "1                        NaN                 NaN                      NaN   \n",
       "2                        NaN                 NaN                      NaN   \n",
       "3                        NaN                 NaN                      NaN   \n",
       "4                        NaN                 NaN                      NaN   \n",
       "\n",
       "   in_reply_to_screen_name  delta_followers  followers_count  \n",
       "0                      NaN             -4.0         576650.0  \n",
       "1                      NaN             26.0         576726.0  \n",
       "2                      NaN             19.0         576516.0  \n",
       "3                      NaN             11.0         576411.0  \n",
       "4                      NaN              NaN              NaN  \n",
       "\n",
       "[5 rows x 29 columns]"
      ]
     },
     "execution_count": 7,
     "metadata": {},
     "output_type": "execute_result"
    }
   ],
   "source": [
    "dataset.head() # here we can see first five (automaticly chosen number) rows for our dataset "
   ]
  },
  {
   "cell_type": "markdown",
   "metadata": {},
   "source": [
    "### Check the data types"
   ]
  },
  {
   "cell_type": "code",
   "execution_count": 8,
   "metadata": {},
   "outputs": [
    {
     "data": {
      "text/plain": [
       "{dtype('bool'): Index(['is_quote_status', 'has_hashtags', 'has_symbols', 'has_user_mentions',\n",
       "        'has_urls', 'favorited', 'retweeted'],\n",
       "       dtype='object'),\n",
       " dtype('int64'): Index(['id', 'hashtags_count', 'symbols_count', 'user_mentions_count',\n",
       "        'urls_count', 'retweet_count', 'favorite_count'],\n",
       "       dtype='object'),\n",
       " dtype('float64'): Index(['contributors', 'in_reply_to_status_id', 'in_reply_to_status_id_str',\n",
       "        'in_reply_to_user_id', 'in_reply_to_user_id_str', 'delta_followers',\n",
       "        'followers_count'],\n",
       "       dtype='object'),\n",
       " dtype('O'): Index(['screen_name', 'created_at', 'text', 'geo', 'place', 'coordinates',\n",
       "        'lang', 'in_reply_to_screen_name'],\n",
       "       dtype='object')}"
      ]
     },
     "execution_count": 8,
     "metadata": {},
     "output_type": "execute_result"
    }
   ],
   "source": [
    "dataset.columns.to_series().groupby(dataset.dtypes).groups"
   ]
  },
  {
   "cell_type": "code",
   "execution_count": 9,
   "metadata": {},
   "outputs": [],
   "source": [
    "dataset['created_at'] = pd.to_datetime(dataset['created_at'], \n",
    "                                       errors='coerce')  # ensures pandas that this column has datetimes only\n",
    "dataset = dataset[dataset.created_at.dt.year == 2018]"
   ]
  },
  {
   "cell_type": "markdown",
   "metadata": {},
   "source": [
    "## Data cleaning"
   ]
  },
  {
   "cell_type": "markdown",
   "metadata": {},
   "source": [
    "### Get list of columns"
   ]
  },
  {
   "cell_type": "code",
   "execution_count": 10,
   "metadata": {},
   "outputs": [
    {
     "data": {
      "text/plain": [
       "Index(['screen_name', 'id', 'created_at', 'text', 'geo', 'place',\n",
       "       'is_quote_status', 'has_hashtags', 'has_symbols', 'has_user_mentions',\n",
       "       'has_urls', 'hashtags_count', 'symbols_count', 'user_mentions_count',\n",
       "       'urls_count', 'coordinates', 'contributors', 'retweet_count',\n",
       "       'favorite_count', 'favorited', 'retweeted', 'lang',\n",
       "       'in_reply_to_status_id', 'in_reply_to_status_id_str',\n",
       "       'in_reply_to_user_id', 'in_reply_to_user_id_str',\n",
       "       'in_reply_to_screen_name', 'delta_followers', 'followers_count'],\n",
       "      dtype='object')"
      ]
     },
     "execution_count": 10,
     "metadata": {},
     "output_type": "execute_result"
    }
   ],
   "source": [
    "dataset.columns # here i show the list of columns of our dataset"
   ]
  },
  {
   "cell_type": "markdown",
   "metadata": {},
   "source": [
    "### String formatting"
   ]
  },
  {
   "cell_type": "markdown",
   "metadata": {},
   "source": [
    "there is b' on the begging of string what means they are byte-string. This code will get rid of it"
   ]
  },
  {
   "cell_type": "code",
   "execution_count": 11,
   "metadata": {},
   "outputs": [],
   "source": [
    "dataset['text'] = dataset['text'].apply(lambda x: literal_eval(x).decode('utf-8'))"
   ]
  },
  {
   "cell_type": "markdown",
   "metadata": {},
   "source": [
    "### Check again first rows"
   ]
  },
  {
   "cell_type": "code",
   "execution_count": 12,
   "metadata": {},
   "outputs": [
    {
     "data": {
      "text/html": [
       "<div>\n",
       "<style scoped>\n",
       "    .dataframe tbody tr th:only-of-type {\n",
       "        vertical-align: middle;\n",
       "    }\n",
       "\n",
       "    .dataframe tbody tr th {\n",
       "        vertical-align: top;\n",
       "    }\n",
       "\n",
       "    .dataframe thead th {\n",
       "        text-align: right;\n",
       "    }\n",
       "</style>\n",
       "<table border=\"1\" class=\"dataframe\">\n",
       "  <thead>\n",
       "    <tr style=\"text-align: right;\">\n",
       "      <th></th>\n",
       "      <th>screen_name</th>\n",
       "      <th>id</th>\n",
       "      <th>created_at</th>\n",
       "      <th>text</th>\n",
       "      <th>geo</th>\n",
       "      <th>place</th>\n",
       "      <th>is_quote_status</th>\n",
       "      <th>has_hashtags</th>\n",
       "      <th>has_symbols</th>\n",
       "      <th>has_user_mentions</th>\n",
       "      <th>...</th>\n",
       "      <th>favorited</th>\n",
       "      <th>retweeted</th>\n",
       "      <th>lang</th>\n",
       "      <th>in_reply_to_status_id</th>\n",
       "      <th>in_reply_to_status_id_str</th>\n",
       "      <th>in_reply_to_user_id</th>\n",
       "      <th>in_reply_to_user_id_str</th>\n",
       "      <th>in_reply_to_screen_name</th>\n",
       "      <th>delta_followers</th>\n",
       "      <th>followers_count</th>\n",
       "    </tr>\n",
       "  </thead>\n",
       "  <tbody>\n",
       "    <tr>\n",
       "      <th>0</th>\n",
       "      <td>cdixon</td>\n",
       "      <td>1038564797309177857</td>\n",
       "      <td>2018-09-08 23:08:37</td>\n",
       "      <td>Really enjoyed this discussion with @stevenbjo...</td>\n",
       "      <td>NaN</td>\n",
       "      <td>NaN</td>\n",
       "      <td>False</td>\n",
       "      <td>False</td>\n",
       "      <td>False</td>\n",
       "      <td>True</td>\n",
       "      <td>...</td>\n",
       "      <td>False</td>\n",
       "      <td>False</td>\n",
       "      <td>en</td>\n",
       "      <td>NaN</td>\n",
       "      <td>NaN</td>\n",
       "      <td>NaN</td>\n",
       "      <td>NaN</td>\n",
       "      <td>NaN</td>\n",
       "      <td>-4.0</td>\n",
       "      <td>576650.0</td>\n",
       "    </tr>\n",
       "    <tr>\n",
       "      <th>1</th>\n",
       "      <td>cdixon</td>\n",
       "      <td>1037739767272808449</td>\n",
       "      <td>2018-09-06 16:30:15</td>\n",
       "      <td>Excited to welcome Dan Boneh to the a16z crypt...</td>\n",
       "      <td>NaN</td>\n",
       "      <td>NaN</td>\n",
       "      <td>False</td>\n",
       "      <td>False</td>\n",
       "      <td>False</td>\n",
       "      <td>False</td>\n",
       "      <td>...</td>\n",
       "      <td>False</td>\n",
       "      <td>False</td>\n",
       "      <td>en</td>\n",
       "      <td>NaN</td>\n",
       "      <td>NaN</td>\n",
       "      <td>NaN</td>\n",
       "      <td>NaN</td>\n",
       "      <td>NaN</td>\n",
       "      <td>26.0</td>\n",
       "      <td>576726.0</td>\n",
       "    </tr>\n",
       "    <tr>\n",
       "      <th>2</th>\n",
       "      <td>cdixon</td>\n",
       "      <td>1034830369025974272</td>\n",
       "      <td>2018-08-29 15:49:20</td>\n",
       "      <td>RT @ali01: Decentralized networks like DFINITY...</td>\n",
       "      <td>NaN</td>\n",
       "      <td>NaN</td>\n",
       "      <td>False</td>\n",
       "      <td>False</td>\n",
       "      <td>False</td>\n",
       "      <td>True</td>\n",
       "      <td>...</td>\n",
       "      <td>False</td>\n",
       "      <td>False</td>\n",
       "      <td>en</td>\n",
       "      <td>NaN</td>\n",
       "      <td>NaN</td>\n",
       "      <td>NaN</td>\n",
       "      <td>NaN</td>\n",
       "      <td>NaN</td>\n",
       "      <td>19.0</td>\n",
       "      <td>576516.0</td>\n",
       "    </tr>\n",
       "    <tr>\n",
       "      <th>3</th>\n",
       "      <td>cdixon</td>\n",
       "      <td>1032404207339356162</td>\n",
       "      <td>2018-08-22 23:08:38</td>\n",
       "      <td>RT @bhorowitz: I am very excited to announce T...</td>\n",
       "      <td>NaN</td>\n",
       "      <td>NaN</td>\n",
       "      <td>False</td>\n",
       "      <td>False</td>\n",
       "      <td>False</td>\n",
       "      <td>True</td>\n",
       "      <td>...</td>\n",
       "      <td>False</td>\n",
       "      <td>False</td>\n",
       "      <td>en</td>\n",
       "      <td>NaN</td>\n",
       "      <td>NaN</td>\n",
       "      <td>NaN</td>\n",
       "      <td>NaN</td>\n",
       "      <td>NaN</td>\n",
       "      <td>11.0</td>\n",
       "      <td>576411.0</td>\n",
       "    </tr>\n",
       "    <tr>\n",
       "      <th>4</th>\n",
       "      <td>cdixon</td>\n",
       "      <td>1025251680466558976</td>\n",
       "      <td>2018-08-03 05:27:03</td>\n",
       "      <td>Woz and Jobs at Apple, 1977. https://t.co/AcLV...</td>\n",
       "      <td>NaN</td>\n",
       "      <td>NaN</td>\n",
       "      <td>False</td>\n",
       "      <td>False</td>\n",
       "      <td>False</td>\n",
       "      <td>False</td>\n",
       "      <td>...</td>\n",
       "      <td>False</td>\n",
       "      <td>False</td>\n",
       "      <td>en</td>\n",
       "      <td>NaN</td>\n",
       "      <td>NaN</td>\n",
       "      <td>NaN</td>\n",
       "      <td>NaN</td>\n",
       "      <td>NaN</td>\n",
       "      <td>NaN</td>\n",
       "      <td>NaN</td>\n",
       "    </tr>\n",
       "  </tbody>\n",
       "</table>\n",
       "<p>5 rows × 29 columns</p>\n",
       "</div>"
      ],
      "text/plain": [
       "  screen_name                   id          created_at  \\\n",
       "0      cdixon  1038564797309177857 2018-09-08 23:08:37   \n",
       "1      cdixon  1037739767272808449 2018-09-06 16:30:15   \n",
       "2      cdixon  1034830369025974272 2018-08-29 15:49:20   \n",
       "3      cdixon  1032404207339356162 2018-08-22 23:08:38   \n",
       "4      cdixon  1025251680466558976 2018-08-03 05:27:03   \n",
       "\n",
       "                                                text  geo place  \\\n",
       "0  Really enjoyed this discussion with @stevenbjo...  NaN   NaN   \n",
       "1  Excited to welcome Dan Boneh to the a16z crypt...  NaN   NaN   \n",
       "2  RT @ali01: Decentralized networks like DFINITY...  NaN   NaN   \n",
       "3  RT @bhorowitz: I am very excited to announce T...  NaN   NaN   \n",
       "4  Woz and Jobs at Apple, 1977. https://t.co/AcLV...  NaN   NaN   \n",
       "\n",
       "   is_quote_status  has_hashtags  has_symbols  has_user_mentions  \\\n",
       "0            False         False        False               True   \n",
       "1            False         False        False              False   \n",
       "2            False         False        False               True   \n",
       "3            False         False        False               True   \n",
       "4            False         False        False              False   \n",
       "\n",
       "        ...         favorited  retweeted  lang  in_reply_to_status_id  \\\n",
       "0       ...             False      False    en                    NaN   \n",
       "1       ...             False      False    en                    NaN   \n",
       "2       ...             False      False    en                    NaN   \n",
       "3       ...             False      False    en                    NaN   \n",
       "4       ...             False      False    en                    NaN   \n",
       "\n",
       "   in_reply_to_status_id_str in_reply_to_user_id  in_reply_to_user_id_str  \\\n",
       "0                        NaN                 NaN                      NaN   \n",
       "1                        NaN                 NaN                      NaN   \n",
       "2                        NaN                 NaN                      NaN   \n",
       "3                        NaN                 NaN                      NaN   \n",
       "4                        NaN                 NaN                      NaN   \n",
       "\n",
       "   in_reply_to_screen_name  delta_followers  followers_count  \n",
       "0                      NaN             -4.0         576650.0  \n",
       "1                      NaN             26.0         576726.0  \n",
       "2                      NaN             19.0         576516.0  \n",
       "3                      NaN             11.0         576411.0  \n",
       "4                      NaN              NaN              NaN  \n",
       "\n",
       "[5 rows x 29 columns]"
      ]
     },
     "execution_count": 12,
     "metadata": {},
     "output_type": "execute_result"
    }
   ],
   "source": [
    "dataset.head()"
   ]
  },
  {
   "cell_type": "code",
   "execution_count": 13,
   "metadata": {},
   "outputs": [],
   "source": [
    "raw_tweets = dataset['text'].tolist()"
   ]
  },
  {
   "cell_type": "markdown",
   "metadata": {},
   "source": [
    "### See raw content of tweets"
   ]
  },
  {
   "cell_type": "code",
   "execution_count": 14,
   "metadata": {},
   "outputs": [
    {
     "data": {
      "text/plain": [
       "['Really enjoyed this discussion with @stevenbjohnson about his new book, Farsighted. \"a16z Podcast: Seeing into the Future — Making Decisions, Telling Stories\" https://t.co/qQixJ1yvaX',\n",
       " 'Excited to welcome Dan Boneh to the a16z crypto team https://t.co/zHqg2RBw0B',\n",
       " 'RT @ali01: Decentralized networks like DFINITY stand to bring us closer to a world where digital platforms can be constructed from trustles…',\n",
       " 'RT @bhorowitz: I am very excited to announce The Cultural Leadership Fund. https://t.co/XuhyRWT6Ky Thank you to @ChrisLyons for leading thi…',\n",
       " 'Woz and Jobs at Apple, 1977. https://t.co/AcLV5PRoQw',\n",
       " 'RT @smc90: I asked the brilliant @devonzuegel to guest host some a16z crypto videos with @cdixon, @ali01, @jessewldn @Iiterature, now live…',\n",
       " 'a16z podcast: Elad Gil and I discuss topics from his excellent new book High Growth Handbook. https://t.co/Uj9jYZuWgt https://t.co/Y9SXHubhkg',\n",
       " 'RT @bhorowitz: I know our new General Partner is going to be great, because she is @conniechan https://t.co/JYD9Ylz17W',\n",
       " 'RT @dawnsongtweets: Really excited to start this journey with our community, building a privacy-first, high-performance cloud computing pla…',\n",
       " 'RT @bhorowitz: I am ridiculously excited about our newest GP, @katie_haun https://t.co/4kXaRWp1xF']"
      ]
     },
     "execution_count": 14,
     "metadata": {},
     "output_type": "execute_result"
    }
   ],
   "source": [
    "raw_tweets[0:10] # first 10 teets of dataset"
   ]
  },
  {
   "cell_type": "markdown",
   "metadata": {},
   "source": [
    "### Point which columns are categorical"
   ]
  },
  {
   "cell_type": "code",
   "execution_count": 15,
   "metadata": {},
   "outputs": [],
   "source": [
    "dataset['in_reply_to_status_id'] = dataset['in_reply_to_status_id'].astype('category')\n",
    "dataset['in_reply_to_status_id_str'] = dataset['in_reply_to_status_id_str'].astype('category')\n",
    "dataset['in_reply_to_user_id'] = dataset['in_reply_to_user_id'].astype('category')\n",
    "dataset['in_reply_to_user_id_str'] = dataset['in_reply_to_user_id_str'].astype('category')"
   ]
  },
  {
   "cell_type": "markdown",
   "metadata": {},
   "source": [
    "`.astype` is a Pandas method for converting (casting) data type of a column to another type. I used it here to convert ID's\n",
    "columns to categorical columns.\n",
    "\n",
    "The purope of it is to give a signal to other Python libraries that this column should be treated as a categorical variable\n",
    "\n",
    "`Categoricals` are a pandas data type which takes on a limited, and usually fixed, number of possible values"
   ]
  },
  {
   "cell_type": "markdown",
   "metadata": {},
   "source": [
    "### checking if there is a geolocation\n",
    "\n",
    "If there would be some geocordinates, then I could use them in sentiment analyses to check wether they impact Tweets contents (e.g. their sentiment, length, etc.)."
   ]
  },
  {
   "cell_type": "code",
   "execution_count": 16,
   "metadata": {},
   "outputs": [
    {
     "data": {
      "text/plain": [
       "{'type': 'Point', 'coordinates': [43.6031, -111.112]}            2\n",
       "{'type': 'Point', 'coordinates': [43.757919, -110.958775]}       1\n",
       "{'type': 'Point', 'coordinates': [36.08177993, -115.1727134]}    1\n",
       "{'type': 'Point', 'coordinates': [50.04836044, 8.57119149]}      1\n",
       "Name: geo, dtype: int64"
      ]
     },
     "execution_count": 16,
     "metadata": {},
     "output_type": "execute_result"
    }
   ],
   "source": [
    "dataset.geo.value_counts()"
   ]
  },
  {
   "cell_type": "markdown",
   "metadata": {},
   "source": [
    "There are almost no geolocation points in our dataset, so I am removing these columns as I can't get from this column any \n",
    "valuable information"
   ]
  },
  {
   "cell_type": "code",
   "execution_count": 17,
   "metadata": {},
   "outputs": [],
   "source": [
    "dataset.drop(['geo', 'coordinates'], axis=1, inplace=True)  "
   ]
  },
  {
   "cell_type": "markdown",
   "metadata": {},
   "source": [
    "## Fill-in missing data\n",
    "\n",
    "Now i am checking if there is any `NaN's`* in dataset. I should check it becouse nan's are sometimes generated by Twitter API, \n",
    "yet they normally represent zero in numeric features\n",
    "\n",
    "*`NaN` is a pythonic keyword for null (lack of data)"
   ]
  },
  {
   "cell_type": "code",
   "execution_count": 18,
   "metadata": {},
   "outputs": [
    {
     "data": {
      "text/plain": [
       "True"
      ]
     },
     "execution_count": 18,
     "metadata": {},
     "output_type": "execute_result"
    }
   ],
   "source": [
    "dataset.isnull().values.any()"
   ]
  },
  {
   "cell_type": "markdown",
   "metadata": {},
   "source": [
    "Becouse the result was positive then i am checking  which column contains at least one NaN value- and create list of those columns"
   ]
  },
  {
   "cell_type": "code",
   "execution_count": 19,
   "metadata": {},
   "outputs": [
    {
     "data": {
      "text/plain": [
       "['place',\n",
       " 'contributors',\n",
       " 'in_reply_to_status_id',\n",
       " 'in_reply_to_status_id_str',\n",
       " 'in_reply_to_user_id',\n",
       " 'in_reply_to_user_id_str',\n",
       " 'in_reply_to_screen_name',\n",
       " 'delta_followers',\n",
       " 'followers_count']"
      ]
     },
     "execution_count": 19,
     "metadata": {},
     "output_type": "execute_result"
    }
   ],
   "source": [
    "dataset.columns[dataset.isna().any()].tolist()"
   ]
  },
  {
   "cell_type": "markdown",
   "metadata": {},
   "source": [
    "Most of NaN values are in categorical fields which hold information whether tweet was a response to other tweet/user. In example, if there is NaN in the column `in_reply_to_status_id`, then such particular tweet wasn't a response to other tweet."
   ]
  },
  {
   "cell_type": "code",
   "execution_count": 20,
   "metadata": {},
   "outputs": [],
   "source": [
    "dataset = dataset.drop(dataset[pd.isna(dataset.followers_count)].index)\n",
    "dataset.reset_index(drop=True, inplace=True)"
   ]
  },
  {
   "cell_type": "code",
   "execution_count": 21,
   "metadata": {},
   "outputs": [],
   "source": [
    "raw_tweets = dataset['text'].tolist()"
   ]
  },
  {
   "cell_type": "markdown",
   "metadata": {},
   "source": [
    "raw_tweets will be used later for some nlp preprocessing holds raw tweets (in order)"
   ]
  },
  {
   "cell_type": "code",
   "execution_count": 22,
   "metadata": {},
   "outputs": [],
   "source": [
    "dataset['delta_followers'] = dataset['delta_followers'].astype('int64')\n",
    "dataset['followers_count'] = dataset['followers_count'].astype('int64')"
   ]
  },
  {
   "cell_type": "markdown",
   "metadata": {},
   "source": [
    "### Time range\n",
    "to decribe what is the time range i took into analyse."
   ]
  },
  {
   "cell_type": "code",
   "execution_count": 23,
   "metadata": {},
   "outputs": [
    {
     "name": "stdout",
     "output_type": "stream",
     "text": [
      "Earliest date is 2018-08-02 05:46:01 and last date is 2018-09-08 23:45:48\n"
     ]
    }
   ],
   "source": [
    "print(f'Earliest date is {dataset.created_at.min()} and last date is {dataset.created_at.max()}')"
   ]
  },
  {
   "cell_type": "markdown",
   "metadata": {},
   "source": [
    "### Multivariate analysis"
   ]
  },
  {
   "cell_type": "code",
   "execution_count": 24,
   "metadata": {},
   "outputs": [],
   "source": [
    "dataset['retweet_count_log'] = dataset['retweet_count'].apply(lambda x: np.log(x+1))\n",
    "dataset['favorite_count_log'] = dataset['favorite_count'].apply(lambda x: np.log(x+1))"
   ]
  },
  {
   "cell_type": "markdown",
   "metadata": {},
   "source": [
    "here i am using log-transformation. It is helpful when dealing with highy skewed data.\n",
    "using log-transformation makes paterns more visible "
   ]
  },
  {
   "cell_type": "markdown",
   "metadata": {},
   "source": [
    "#### Re-tweets"
   ]
  },
  {
   "cell_type": "markdown",
   "metadata": {},
   "source": [
    "I am counting here how many times particular group of tweets has been re-tweet."
   ]
  },
  {
   "cell_type": "code",
   "execution_count": 25,
   "metadata": {},
   "outputs": [
    {
     "data": {
      "text/plain": [
       "<matplotlib.axes._subplots.AxesSubplot at 0x2342e686588>"
      ]
     },
     "execution_count": 25,
     "metadata": {},
     "output_type": "execute_result"
    },
    {
     "data": {
      "image/png": "[encoded data removed]",
      "text/plain": [
       "<Figure size 432x288 with 1 Axes>"
      ]
     },
     "metadata": {},
     "output_type": "display_data"
    }
   ],
   "source": [
    "dataset['retweet_count_log'].hist(bins=20)"
   ]
  },
  {
   "cell_type": "markdown",
   "metadata": {},
   "source": [
    "Description of the chart: <br>\n",
    "`X-axis` holds log-transformed range of datapoints in retweet_count (called 'bin') <br>\n",
    "`Y-axis` holds counts of a particular bin"
   ]
  },
  {
   "cell_type": "markdown",
   "metadata": {},
   "source": [
    "#### Conclusions of this histogram:\n",
    "    - Retweet count on a histogram can be characterized as a typical numeric statistic found in social networks - it has \n",
    "    long tail, many values in first bin and little values in last bins\n",
    "    - There is a small cluster of mediocre tweets - tweets having between 10^2 and 10^3 retweets"
   ]
  },
  {
   "cell_type": "markdown",
   "metadata": {},
   "source": [
    "#### Tweet likes"
   ]
  },
  {
   "cell_type": "markdown",
   "metadata": {},
   "source": [
    "I am counting here how many times particular tweet has been 'liked' ('marked as favorite')"
   ]
  },
  {
   "cell_type": "code",
   "execution_count": 26,
   "metadata": {},
   "outputs": [
    {
     "data": {
      "text/plain": [
       "<matplotlib.axes._subplots.AxesSubplot at 0x2342ea46080>"
      ]
     },
     "execution_count": 26,
     "metadata": {},
     "output_type": "execute_result"
    },
    {
     "data": {
      "image/png": "[encoded data removed]",
      "text/plain": [
       "<Figure size 432x288 with 1 Axes>"
      ]
     },
     "metadata": {},
     "output_type": "display_data"
    }
   ],
   "source": [
    "dataset['favorite_count_log'].hist(bins=20)\n",
    "\n",
    "# I characterized the Favorite count on a histogram as a typical numeric statistic \n",
    "# found in social networks - it has long tail, many values in first bin and little values in last bins\n",
    "# There is a small cluster of mediocre tweets - tweets having between 10^3 and 10^4 likes"
   ]
  },
  {
   "cell_type": "markdown",
   "metadata": {},
   "source": [
    "Description of the chart: <br>\n",
    "`X-axis` holds log-transformed range of datapoints in favorite_count (called 'bin')<br>\n",
    "`Y-axis` holds counts of a particular bin"
   ]
  },
  {
   "cell_type": "markdown",
   "metadata": {},
   "source": [
    "#### Conclusions of this histogram: \n",
    "    - Favourite count on a histogram can be characterized as a typical numeric statistic found in social networks - it has \n",
    "     long tail, many values in first bin and little values in last bins\n",
    "    - There is a small cluster of mediocre tweets - tweets having between 10^3 and 10^4 retweets"
   ]
  },
  {
   "cell_type": "markdown",
   "metadata": {},
   "source": [
    "#### Most and least popular"
   ]
  },
  {
   "cell_type": "markdown",
   "metadata": {},
   "source": [
    "here i show analyzed accounts in order of popularity (by number of likes)"
   ]
  },
  {
   "cell_type": "code",
   "execution_count": 27,
   "metadata": {},
   "outputs": [
    {
     "data": {
      "text/plain": [
       "screen_name\n",
       "elonmusk           1487893\n",
       "mkbhd              1197538\n",
       "billgates           315970\n",
       "tim_cook            154916\n",
       "SwiftonSecurity     106326\n",
       "JonErlichman         51643\n",
       "KaraSwisher          39960\n",
       "dhh                  37996\n",
       "benedictevans        37206\n",
       "DigitalTrends        32473\n",
       "MikeIsaac            24926\n",
       "sirajraval           20283\n",
       "mims                 13434\n",
       "sundarpichai         10406\n",
       "BoredElonMusk        10241\n",
       "ajitpaifcc            5344\n",
       "reshmasaujani         3568\n",
       "charlesarthur         3100\n",
       "jeffweiner            2892\n",
       "asymco                2389\n",
       "ericjackson           1694\n",
       "emilychangtv           556\n",
       "cdixon                 486\n",
       "davidcohen             135\n",
       "Name: favorite_count, dtype: int64"
      ]
     },
     "execution_count": 27,
     "metadata": {},
     "output_type": "execute_result"
    }
   ],
   "source": [
    "dataset.groupby(['screen_name']).favorite_count.sum().sort_values(ascending=False)"
   ]
  },
  {
   "cell_type": "markdown",
   "metadata": {},
   "source": [
    "Here by using visualisation tool i am ilustrating dependence of some factors of tweets to eachother"
   ]
  },
  {
   "cell_type": "code",
   "execution_count": 28,
   "metadata": {},
   "outputs": [
    {
     "data": {
      "text/plain": [
       "<seaborn.axisgrid.PairGrid at 0x2342ea93320>"
      ]
     },
     "execution_count": 28,
     "metadata": {},
     "output_type": "execute_result"
    },
    {
     "data": {
      "image/png": "[encoded data removed]",
      "text/plain": [
       "<Figure size 823.875x720 with 20 Axes>"
      ]
     },
     "metadata": {},
     "output_type": "display_data"
    }
   ],
   "source": [
    "columns = ['hashtags_count', 'user_mentions_count', 'screen_name', \n",
    "           'retweet_count_log', 'favorite_count_log']\n",
    "\n",
    "\n",
    "sns.pairplot(dataset[dataset.screen_name.isin(['elonmusk', 'emilychangtv'])][columns], hue=\"screen_name\")\n"
   ]
  },
  {
   "cell_type": "markdown",
   "metadata": {},
   "source": [
    "OBSERVATIONS:    (based on analyzed the most and least liked accounts)\n",
    "\n",
    "There are some insights and visible differences between popular and less popular accounts:\n",
    "\n",
    "1) *effect of scale* - more `retweets` means more `likes`, this could be due to dual feedback between those 2\n",
    "\n",
    "2) there is an odd group of tweets which are little liked (`favorite_count_log`) but have a significant amount of retweets (`retweet_count_log`)\n",
    "\n",
    "3) histogram of a `retweet_count` is wider for more popular accounts\n",
    "\n",
    "4) `favorite_count` has a \"W\" shape\n",
    "\n",
    "5) `user_mentioins_count` is quite similar for both types of accounts\n"
   ]
  },
  {
   "cell_type": "markdown",
   "metadata": {},
   "source": [
    "#### Below i am showing the result of arithmetic avarage of analyzed accounts:"
   ]
  },
  {
   "cell_type": "code",
   "execution_count": 29,
   "metadata": {},
   "outputs": [
    {
     "data": {
      "text/plain": [
       "favorite_count         2051.895719\n",
       "favorite_count_log        3.317815\n",
       "retweet_count          1436.846069\n",
       "retweet_count_log         3.165507\n",
       "user_mentions_count       1.026472\n",
       "dtype: float64"
      ]
     },
     "execution_count": 29,
     "metadata": {},
     "output_type": "execute_result"
    }
   ],
   "source": [
    "columns = ['favorite_count', 'favorite_count_log', 'retweet_count',  \n",
    "           'retweet_count_log', 'user_mentions_count']\n",
    "\n",
    "dataset.groupby(['screen_name'])[columns].agg('mean').agg('mean')\n",
    "\n"
   ]
  },
  {
   "cell_type": "markdown",
   "metadata": {},
   "source": [
    "## NLP"
   ]
  },
  {
   "cell_type": "markdown",
   "metadata": {},
   "source": [
    "### Sentiment analysis"
   ]
  },
  {
   "cell_type": "markdown",
   "metadata": {},
   "source": [
    "I use `SIA` method from the `NLTK's vader` library\n",
    "\n",
    "`NLTK's vader analyzer` computationally identifies and categorizes text into three sentiments: positive, negative, or neutral using a lexicon of positive and negative words. Sentiment is calculated as a numeric result in range of `[0.0, 1.0)`, where `1.0` means highest in a particular dimension. \"Neg\" abbr. means negative sentiment, \"pos\" means positive sentiment, \"compound\" means general sentiment.\n",
    "\n",
    "I'll append each sentiment dictionary to a results list, which I'll transform into a dataframe"
   ]
  },
  {
   "cell_type": "code",
   "execution_count": 30,
   "metadata": {},
   "outputs": [],
   "source": [
    "sia = SIA()\n",
    "results = []\n",
    "\n",
    "for line in raw_tweets:\n",
    "    pol_score = sia.polarity_scores(line)\n",
    "    results.append(pol_score)"
   ]
  },
  {
   "cell_type": "code",
   "execution_count": 31,
   "metadata": {},
   "outputs": [
    {
     "name": "stdout",
     "output_type": "stream",
     "text": [
      "sen-tagged 11674 rows\n"
     ]
    },
    {
     "data": {
      "text/plain": [
       "[{'neg': 0.0, 'neu': 0.625, 'pos': 0.375, 'compound': 0.6597},\n",
       " {'neg': 0.0, 'neu': 0.889, 'pos': 0.111, 'compound': 0.3612},\n",
       " {'neg': 0.0, 'neu': 0.766, 'pos': 0.234, 'compound': 0.6361},\n",
       " {'neg': 0.0, 'neu': 0.667, 'pos': 0.333, 'compound': 0.7906},\n",
       " {'neg': 0.0, 'neu': 1.0, 'pos': 0.0, 'compound': 0.0},\n",
       " {'neg': 0.153, 'neu': 0.847, 'pos': 0.0, 'compound': -0.4404},\n",
       " {'neg': 0.113, 'neu': 0.887, 'pos': 0.0, 'compound': -0.3182},\n",
       " {'neg': 0.0, 'neu': 1.0, 'pos': 0.0, 'compound': 0.0},\n",
       " {'neg': 0.0, 'neu': 1.0, 'pos': 0.0, 'compound': 0.0}]"
      ]
     },
     "execution_count": 31,
     "metadata": {},
     "output_type": "execute_result"
    }
   ],
   "source": [
    "print(f'sen-tagged {len(results)} rows')\n",
    "results[1:10]"
   ]
  },
  {
   "cell_type": "code",
   "execution_count": 32,
   "metadata": {},
   "outputs": [],
   "source": [
    "dataset['sentiment'] = pd.Series([x['compound'] for x in results])\n",
    "dataset['neg_sentiment'] = pd.Series([x['neg'] for x in results])\n",
    "dataset['neu_sentiment'] = pd.Series([x['neu'] for x in results])\n",
    "dataset['pos_sentiment'] = pd.Series([x['pos'] for x in results])\n",
    "\n",
    "# Creates four new columns in the dataset (pandas dataframe) with seperate type of sentiment"
   ]
  },
  {
   "cell_type": "code",
   "execution_count": 33,
   "metadata": {},
   "outputs": [
    {
     "data": {
      "text/plain": [
       "neg_sentiment    0.036464\n",
       "neu_sentiment    0.822195\n",
       "pos_sentiment    0.141336\n",
       "dtype: float64"
      ]
     },
     "execution_count": 33,
     "metadata": {},
     "output_type": "execute_result"
    }
   ],
   "source": [
    "sent_columns = ['neg_sentiment', 'neu_sentiment',  \n",
    "           'pos_sentiment']\n",
    "\n",
    "dataset.groupby(['screen_name'])[sent_columns].agg('mean').agg('mean')"
   ]
  },
  {
   "cell_type": "markdown",
   "metadata": {},
   "source": [
    "Conclusions:\n",
    "- most of tweets have neutral sentiment\n",
    "- negative sentiment is the rarest\n"
   ]
  },
  {
   "cell_type": "markdown",
   "metadata": {},
   "source": [
    "#### On the list below i show who has the most positive tweets:"
   ]
  },
  {
   "cell_type": "code",
   "execution_count": 34,
   "metadata": {},
   "outputs": [
    {
     "data": {
      "text/plain": [
       "screen_name\n",
       "KaraSwisher        315.111\n",
       "DigitalTrends      215.621\n",
       "charlesarthur      142.718\n",
       "mims               134.183\n",
       "SwiftonSecurity    118.970\n",
       "benedictevans      101.652\n",
       "ericjackson         64.116\n",
       "ajitpaifcc          61.944\n",
       "dhh                 49.034\n",
       "MikeIsaac           45.225\n",
       "sirajraval          42.977\n",
       "mkbhd               27.800\n",
       "asymco              24.311\n",
       "reshmasaujani       17.125\n",
       "elonmusk            16.267\n",
       "billgates            5.590\n",
       "JonErlichman         3.774\n",
       "davidcohen           3.487\n",
       "tim_cook             2.957\n",
       "jeffweiner           1.950\n",
       "emilychangtv         1.825\n",
       "cdixon               0.866\n",
       "sundarpichai         0.829\n",
       "BoredElonMusk        0.128\n",
       "Name: pos_sentiment, dtype: float64"
      ]
     },
     "execution_count": 34,
     "metadata": {},
     "output_type": "execute_result"
    }
   ],
   "source": [
    "dataset.groupby(['screen_name']).pos_sentiment.sum().sort_values(ascending=False)"
   ]
  },
  {
   "cell_type": "markdown",
   "metadata": {},
   "source": [
    "conculsion- The most positive tweets write KaraSwisher"
   ]
  },
  {
   "cell_type": "markdown",
   "metadata": {},
   "source": [
    "#### On the list below i show who has the most negative tweets:"
   ]
  },
  {
   "cell_type": "code",
   "execution_count": 35,
   "metadata": {},
   "outputs": [
    {
     "data": {
      "text/plain": [
       "screen_name\n",
       "KaraSwisher        127.917\n",
       "charlesarthur       81.889\n",
       "benedictevans       79.060\n",
       "SwiftonSecurity     77.466\n",
       "DigitalTrends       71.938\n",
       "mims                48.621\n",
       "MikeIsaac           30.572\n",
       "ajitpaifcc          26.475\n",
       "dhh                 24.735\n",
       "ericjackson         18.719\n",
       "asymco              10.329\n",
       "mkbhd                7.431\n",
       "sirajraval           6.977\n",
       "elonmusk             5.236\n",
       "reshmasaujani        4.480\n",
       "billgates            0.909\n",
       "emilychangtv         0.667\n",
       "JonErlichman         0.436\n",
       "jeffweiner           0.241\n",
       "tim_cook             0.122\n",
       "cdixon               0.000\n",
       "sundarpichai         0.000\n",
       "davidcohen           0.000\n",
       "BoredElonMusk        0.000\n",
       "Name: neg_sentiment, dtype: float64"
      ]
     },
     "execution_count": 35,
     "metadata": {},
     "output_type": "execute_result"
    }
   ],
   "source": [
    "dataset.groupby(['screen_name']).neg_sentiment.sum().sort_values(ascending=False)"
   ]
  },
  {
   "cell_type": "markdown",
   "metadata": {},
   "source": [
    "Conclusion- what is interesting also the most number of negative tweets are realised by KaraSwisher."
   ]
  },
  {
   "cell_type": "markdown",
   "metadata": {},
   "source": [
    "### POS tagger"
   ]
  },
  {
   "cell_type": "markdown",
   "metadata": {},
   "source": [
    "POS (Parts-Of-Speech) tagging is the process of marking up a word in a text as corresponding to a particular part of speech,based on both its definition and its context—i.e., its relationship with adjacent and related words in a phrase, sentence, or paragraph. A simplified form of this is commonly taught to school-age children, in the identification of words as nouns, verbs, adjectives, adverbs, etc.\n",
    "\n",
    "I parse parts-of-speech here using `nltk` to describe more basic characteristics of tweet's text - it's richness in adjectives, number of nouns, punctuation marks - it can be associated with high/low emotional content, personal attributes - how a person constructs sentences, etc. \n"
   ]
  },
  {
   "cell_type": "markdown",
   "metadata": {},
   "source": [
    "#### Tokenize sentences into list of words (in basic form)"
   ]
  },
  {
   "cell_type": "markdown",
   "metadata": {},
   "source": [
    "Tokenization is the act of breaking up a sequence of strings into pieces such as words, keywords, phrases, symbols and other\n",
    "elements called tokens. Tokens can be individual words, phrases or even whole sentences. In the process of tokenization, some\n",
    "characters like punctuation marks are discarded\n",
    "\n",
    "map - mapping every element of an iterable (i.e. 'list') to a result of function 'word_tokenize' proccesing"
   ]
  },
  {
   "cell_type": "code",
   "execution_count": 36,
   "metadata": {},
   "outputs": [],
   "source": [
    "tokens_raw = map(word_tokenize, raw_tweets)"
   ]
  },
  {
   "cell_type": "markdown",
   "metadata": {},
   "source": [
    "result of word_tokenize is a list of \"tokens\" - sentence (string) is seperate into a list of seperate words and interpuncts."
   ]
  },
  {
   "cell_type": "code",
   "execution_count": 37,
   "metadata": {},
   "outputs": [],
   "source": [
    "tokens_list = list(tokens_raw)"
   ]
  },
  {
   "cell_type": "code",
   "execution_count": 38,
   "metadata": {},
   "outputs": [
    {
     "name": "stdout",
     "output_type": "stream",
     "text": [
      "tokenized 11674 sentences\n",
      "Below sample results of word_tokenize function \n",
      "(prints first row):\n"
     ]
    },
    {
     "data": {
      "text/plain": [
       "['Really',\n",
       " 'enjoyed',\n",
       " 'this',\n",
       " 'discussion',\n",
       " 'with',\n",
       " '@',\n",
       " 'stevenbjohnson',\n",
       " 'about',\n",
       " 'his',\n",
       " 'new',\n",
       " 'book',\n",
       " ',',\n",
       " 'Farsighted',\n",
       " '.',\n",
       " '``',\n",
       " 'a16z',\n",
       " 'Podcast',\n",
       " ':',\n",
       " 'Seeing',\n",
       " 'into',\n",
       " 'the',\n",
       " 'Future',\n",
       " '—',\n",
       " 'Making',\n",
       " 'Decisions',\n",
       " ',',\n",
       " 'Telling',\n",
       " 'Stories',\n",
       " \"''\",\n",
       " 'https',\n",
       " ':',\n",
       " '//t.co/qQixJ1yvaX']"
      ]
     },
     "execution_count": 38,
     "metadata": {},
     "output_type": "execute_result"
    }
   ],
   "source": [
    "print(f'tokenized {len(results)} sentences')\n",
    "\n",
    "print('Below sample results of word_tokenize function \\n(prints first row):')\n",
    "\n",
    "tokens_list[0]"
   ]
  },
  {
   "cell_type": "code",
   "execution_count": 39,
   "metadata": {},
   "outputs": [
    {
     "name": "stdout",
     "output_type": "stream",
     "text": [
      "pos-tagged 11674 rows\n"
     ]
    }
   ],
   "source": [
    "pos_raw = pos_tag_sents(tokens_list)\n",
    "print(f'pos-tagged {len(pos_raw)} rows')\n",
    "\n",
    "# The results shows what part of speech is particular word from earlier created token list"
   ]
  },
  {
   "cell_type": "markdown",
   "metadata": {},
   "source": [
    "#### See sample result below"
   ]
  },
  {
   "cell_type": "code",
   "execution_count": 40,
   "metadata": {},
   "outputs": [
    {
     "data": {
      "text/plain": [
       "[('Really', 'RB'),\n",
       " ('enjoyed', 'VBN'),\n",
       " ('this', 'DT'),\n",
       " ('discussion', 'NN'),\n",
       " ('with', 'IN'),\n",
       " ('@', 'NNP'),\n",
       " ('stevenbjohnson', 'NN'),\n",
       " ('about', 'IN'),\n",
       " ('his', 'PRP$'),\n",
       " ('new', 'JJ'),\n",
       " ('book', 'NN'),\n",
       " (',', ','),\n",
       " ('Farsighted', 'NNP'),\n",
       " ('.', '.'),\n",
       " ('``', '``'),\n",
       " ('a16z', 'JJ'),\n",
       " ('Podcast', 'NN'),\n",
       " (':', ':'),\n",
       " ('Seeing', 'VBG'),\n",
       " ('into', 'IN'),\n",
       " ('the', 'DT'),\n",
       " ('Future', 'NNP'),\n",
       " ('—', 'NNP'),\n",
       " ('Making', 'NNP'),\n",
       " ('Decisions', 'NNP'),\n",
       " (',', ','),\n",
       " ('Telling', 'VBG'),\n",
       " ('Stories', 'NNS'),\n",
       " (\"''\", \"''\"),\n",
       " ('https', 'NN'),\n",
       " (':', ':'),\n",
       " ('//t.co/qQixJ1yvaX', 'NN')]"
      ]
     },
     "execution_count": 40,
     "metadata": {},
     "output_type": "execute_result"
    }
   ],
   "source": [
    "pos_raw[0]\n",
    "\n",
    "# on this website there are explained shortcuts of parts of speech : https://www.sketchengine.eu/penn-treebank-tagset/ "
   ]
  },
  {
   "cell_type": "markdown",
   "metadata": {},
   "source": [
    "#### List of all POS tags"
   ]
  },
  {
   "cell_type": "code",
   "execution_count": 41,
   "metadata": {},
   "outputs": [],
   "source": [
    "pos_counts = [Counter([z[1] for z in x]) for x in pos_raw]"
   ]
  },
  {
   "cell_type": "code",
   "execution_count": 42,
   "metadata": {},
   "outputs": [
    {
     "data": {
      "text/plain": [
       "Counter({'RB': 1,\n",
       "         'VBN': 1,\n",
       "         'DT': 2,\n",
       "         'NN': 6,\n",
       "         'IN': 3,\n",
       "         'NNP': 6,\n",
       "         'PRP$': 1,\n",
       "         'JJ': 2,\n",
       "         ',': 2,\n",
       "         '.': 1,\n",
       "         '``': 1,\n",
       "         ':': 2,\n",
       "         'VBG': 2,\n",
       "         'NNS': 1,\n",
       "         \"''\": 1})"
      ]
     },
     "execution_count": 42,
     "metadata": {},
     "output_type": "execute_result"
    }
   ],
   "source": [
    "pos_counts[0]\n",
    "\n",
    "# Let's look at first tweet and its part of speech:"
   ]
  },
  {
   "cell_type": "markdown",
   "metadata": {},
   "source": [
    "It's also interesting to count number of interpunction chars (commas, etc.)"
   ]
  },
  {
   "cell_type": "code",
   "execution_count": 43,
   "metadata": {},
   "outputs": [
    {
     "data": {
      "text/plain": [
       "{'RB': 1,\n",
       " 'VBN': 1,\n",
       " 'DT': 2,\n",
       " 'NN': 6,\n",
       " 'IN': 3,\n",
       " 'NNP': 6,\n",
       " 'PRP$': 1,\n",
       " 'JJ': 2,\n",
       " ',': 2,\n",
       " '.': 1,\n",
       " '``': 1,\n",
       " ':': 2,\n",
       " 'VBG': 2,\n",
       " 'NNS': 1,\n",
       " \"''\": 1}"
      ]
     },
     "execution_count": 43,
     "metadata": {},
     "output_type": "execute_result"
    }
   ],
   "source": [
    "dict(pos_counts[0]) # here on the examplary tweet"
   ]
  },
  {
   "cell_type": "code",
   "execution_count": 44,
   "metadata": {},
   "outputs": [],
   "source": [
    "all_pos = list(chain.from_iterable([list(pos.keys()) for pos in pos_counts])) \n",
    "\n",
    "# chain function takes any number of iterables as arguments and “chains” them together\n",
    "\n",
    "all_pos = set(all_pos)"
   ]
  },
  {
   "cell_type": "markdown",
   "metadata": {},
   "source": [
    "### Add results to dataset\n",
    "\n",
    "        \n",
    "I'm adding here counts of parts-of-speech (POS) as a single column per particular POS.<br>\n",
    "Then I am creating new columns which you can see below (starting from 'interpuncts' and 'MD')<br>\n",
    "They all contain count of occurences of a particular POS\n",
    "\n"
   ]
  },
  {
   "cell_type": "code",
   "execution_count": 45,
   "metadata": {},
   "outputs": [],
   "source": [
    "dataset['interpuncts'] = 0\n",
    "\n",
    "for pos_name in all_pos:\n",
    "    if pos_name in ['#','$',\"''\",'(',')',',','.',':', '``']:\n",
    "        dataset['interpuncts'] = dataset['interpuncts'].add(pd.Series([pos_counts[x][pos_name] \\\n",
    "                                       if pos_name in pos_counts[x] \\\n",
    "                                       else 0 for x in range(len(dataset))]))\n",
    "    else:\n",
    "        dataset[pos_name] = pd.Series([pos_counts[x][pos_name] \\\n",
    "                                       if pos_name in pos_counts[x] \\\n",
    "                                       else 0 for x in range(len(dataset))])\n"
   ]
  },
  {
   "cell_type": "code",
   "execution_count": 46,
   "metadata": {},
   "outputs": [
    {
     "data": {
      "text/plain": [
       "Index(['screen_name', 'id', 'created_at', 'text', 'place', 'is_quote_status',\n",
       "       'has_hashtags', 'has_symbols', 'has_user_mentions', 'has_urls',\n",
       "       'hashtags_count', 'symbols_count', 'user_mentions_count', 'urls_count',\n",
       "       'contributors', 'retweet_count', 'favorite_count', 'favorited',\n",
       "       'retweeted', 'lang', 'in_reply_to_status_id',\n",
       "       'in_reply_to_status_id_str', 'in_reply_to_user_id',\n",
       "       'in_reply_to_user_id_str', 'in_reply_to_screen_name', 'delta_followers',\n",
       "       'followers_count', 'retweet_count_log', 'favorite_count_log',\n",
       "       'sentiment', 'neg_sentiment', 'neu_sentiment', 'pos_sentiment',\n",
       "       'interpuncts', 'VBN', 'NNP', 'RBS', 'WP$', 'WP', 'VB', 'MD', 'JJS',\n",
       "       'IN', 'RB', 'CC', 'DT', 'NNPS', 'RP', 'WDT', 'RBR', 'VBG', 'VBD', 'WRB',\n",
       "       'PRP$', 'JJ', 'UH', 'LS', 'VBP', 'JJR', 'PDT', 'POS', 'SYM', 'NN',\n",
       "       'PRP', 'CD', 'VBZ', 'NNS', 'EX', 'FW', 'TO'],\n",
       "      dtype='object')"
      ]
     },
     "execution_count": 46,
     "metadata": {},
     "output_type": "execute_result"
    }
   ],
   "source": [
    "dataset.columns"
   ]
  },
  {
   "cell_type": "markdown",
   "metadata": {},
   "source": [
    "#### Here i show how many of particular part of speech includes dataset:"
   ]
  },
  {
   "cell_type": "code",
   "execution_count": 47,
   "metadata": {},
   "outputs": [
    {
     "data": {
      "text/plain": [
       "NN             4.474740\n",
       "interpuncts    3.384168\n",
       "NNP            3.157817\n",
       "IN             1.965039\n",
       "JJ             1.812004\n",
       "DT             1.493433\n",
       "NNS            1.060055\n",
       "PRP            0.946418\n",
       "VB             0.886940\n",
       "RB             0.819244\n",
       "CD             0.717962\n",
       "VBZ            0.631470\n",
       "TO             0.611760\n",
       "VBP            0.607492\n",
       "CC             0.529720\n",
       "VBG            0.485957\n",
       "PRP$           0.373768\n",
       "VBD            0.359510\n",
       "VBN            0.291207\n",
       "MD             0.198512\n",
       "WRB            0.134945\n",
       "JJR            0.103977\n",
       "WDT            0.093447\n",
       "WP             0.092143\n",
       "JJS            0.077340\n",
       "RP             0.074776\n",
       "POS            0.063788\n",
       "RBR            0.036339\n",
       "NNPS           0.026527\n",
       "EX             0.019335\n",
       "PDT            0.016037\n",
       "UH             0.012962\n",
       "FW             0.011823\n",
       "RBS            0.007492\n",
       "SYM            0.000938\n",
       "WP$            0.000724\n",
       "LS             0.000035\n",
       "dtype: float64"
      ]
     },
     "execution_count": 47,
     "metadata": {},
     "output_type": "execute_result"
    }
   ],
   "source": [
    "pos_columns = ['interpuncts', 'WRB', 'RBR', 'CD', 'DT', 'LS', 'IN', 'VBD', 'NNP',\n",
    "       'SYM', 'RB', 'NNS', 'VBP', 'VBN', 'VBZ', 'PRP$', 'JJ', 'PDT', 'UH',\n",
    "       'NNPS', 'RP', 'VBG', 'EX', 'MD', 'NN', 'JJR', 'JJS', 'PRP', 'POS', 'VB',\n",
    "       'FW', 'CC', 'WDT', 'TO', 'WP', 'RBS', 'WP$']\n",
    "\n",
    "dataset.groupby(['screen_name'])[pos_columns].agg('mean').agg('mean').sort_values(ascending=False)\n",
    "\n"
   ]
  },
  {
   "cell_type": "markdown",
   "metadata": {},
   "source": [
    "Conclusions:\n",
    "    - the most used POS is `NN` (noun, singular or mass, not specific) `interpuncts` and `NNP`(Proper nouns, name specific people, places, things, or ideas) "
   ]
  },
  {
   "cell_type": "markdown",
   "metadata": {},
   "source": [
    "### NER tagger"
   ]
  },
  {
   "cell_type": "markdown",
   "metadata": {},
   "source": [
    "NER (Named-Entities Recognition)- is about locating and classifying named entities in texts in order to recognize places,  people, dates, values, organizations. \n",
    "\n"
   ]
  },
  {
   "cell_type": "markdown",
   "metadata": {},
   "source": [
    "I am tagging below words from tweets by their named entity (one of: `facility/building` (`facility`), `geopolitical` (`gpe`, `gsp`), `location`, `organization` or `person`). Next, I am counting occurences of named entitites per tweet and add those counts to the `dataset`. "
   ]
  },
  {
   "cell_type": "markdown",
   "metadata": {},
   "source": [
    "#### NLTK's named entity recognizer"
   ]
  },
  {
   "cell_type": "code",
   "execution_count": 48,
   "metadata": {},
   "outputs": [],
   "source": [
    "ner_set = set()\n",
    "\n",
    "for t in tokens_list:\n",
    "    for chunk in nltk.ne_chunk(nltk.pos_tag(t)):\n",
    "        if hasattr(chunk, 'label'):\n",
    "            ner_set.add(chunk.label())\n",
    "            \n",
    "# I'm counting named entities in the tweet text and add those counts as new columns to the dataset"
   ]
  },
  {
   "cell_type": "code",
   "execution_count": 49,
   "metadata": {},
   "outputs": [
    {
     "data": {
      "text/plain": [
       "{'FACILITY', 'GPE', 'GSP', 'LOCATION', 'ORGANIZATION', 'PERSON'}"
      ]
     },
     "execution_count": 49,
     "metadata": {},
     "output_type": "execute_result"
    }
   ],
   "source": [
    "ner_set"
   ]
  },
  {
   "cell_type": "code",
   "execution_count": 50,
   "metadata": {},
   "outputs": [],
   "source": [
    "dataset['ner_person_count'] = pd.Series([sum([1 if hasattr(chunk, 'label') and chunk.label() == 'PERSON' \n",
    "                                              else 0 for chunk in nltk.ne_chunk(nltk.pos_tag(t))]) for t in tokens_list])"
   ]
  },
  {
   "cell_type": "code",
   "execution_count": 51,
   "metadata": {},
   "outputs": [],
   "source": [
    "dataset['ner_gpe_count'] = pd.Series([sum([1 if hasattr(chunk, 'label') and chunk.label() == 'GPE' \n",
    "                                           else 0 for chunk in nltk.ne_chunk(nltk.pos_tag(t))]) for t in tokens_list])"
   ]
  },
  {
   "cell_type": "code",
   "execution_count": 52,
   "metadata": {},
   "outputs": [],
   "source": [
    "dataset['ner_location_count'] = pd.Series([sum([1 if hasattr(chunk, 'label') and chunk.label() == 'LOCATION' \n",
    "                                                else 0 for chunk in nltk.ne_chunk(nltk.pos_tag(t))]) for t in tokens_list])"
   ]
  },
  {
   "cell_type": "code",
   "execution_count": 53,
   "metadata": {},
   "outputs": [],
   "source": [
    "dataset['ner_facility_count'] = pd.Series([sum([1 if hasattr(chunk, 'label') and chunk.label() == 'FACILITY' \n",
    "                                                else 0 for chunk in nltk.ne_chunk(nltk.pos_tag(t))]) for t in tokens_list])"
   ]
  },
  {
   "cell_type": "code",
   "execution_count": 54,
   "metadata": {},
   "outputs": [],
   "source": [
    "dataset['ner_gsp_count'] = pd.Series([sum([1 if hasattr(chunk, 'label') and chunk.label() == 'GSP' \n",
    "                                           else 0 for chunk in nltk.ne_chunk(nltk.pos_tag(t))]) for t in tokens_list])"
   ]
  },
  {
   "cell_type": "code",
   "execution_count": 55,
   "metadata": {},
   "outputs": [],
   "source": [
    "dataset['ner_organization_count'] = pd.Series([sum([1 if hasattr(chunk, 'label') and chunk.label() == 'ORGANIZATION' \n",
    "                                                    else 0 for chunk in nltk.ne_chunk(nltk.pos_tag(t))]) \n",
    "                                               for t in tokens_list])"
   ]
  },
  {
   "cell_type": "code",
   "execution_count": 56,
   "metadata": {},
   "outputs": [],
   "source": [
    "dataset['ner_organization_count'] = pd.Series([sum([1 if hasattr(chunk, 'label') and chunk.label() == 'ORGANIZATION' \n",
    "                                                    else 0 for chunk in nltk.ne_chunk(nltk.pos_tag(t))]) \n",
    "                                               for t in tokens_list])"
   ]
  },
  {
   "cell_type": "code",
   "execution_count": 57,
   "metadata": {},
   "outputs": [],
   "source": [
    "ner_sum = dataset['ner_person_count'].sum() + dataset['ner_gpe_count'].sum() + dataset['ner_location_count'].sum() + \\\n",
    "          dataset['ner_facility_count'].sum() + dataset['ner_gsp_count'].sum() + dataset['ner_organization_count'].sum()\n",
    "\n",
    "person_count = int(dataset['ner_person_count'].sum() / ner_sum * 100)\n",
    "gpe_count = int(dataset['ner_gpe_count'].sum() / ner_sum * 100)\n",
    "location_count = int(dataset['ner_location_count'].sum() / ner_sum * 100)\n",
    "facility_count = int(dataset['ner_facility_count'].sum() / ner_sum * 100)\n",
    "gsp_count = int(dataset['ner_gsp_count'].sum() / ner_sum * 100)\n",
    "organization_count = int(dataset['ner_organization_count'].sum() / ner_sum * 100)\n",
    "\n",
    "data = {'PERSON': person_count, 'GPE': gpe_count, 'ORGANIZATION': organization_count, \n",
    "        'OTHER (gsp, facility & location)': 3}"
   ]
  },
  {
   "cell_type": "markdown",
   "metadata": {},
   "source": [
    "Here I am using pandas calculations to make a waffle chart"
   ]
  },
  {
   "cell_type": "code",
   "execution_count": 58,
   "metadata": {},
   "outputs": [
    {
     "data": {
      "image/png": "[encoded data removed]",
      "text/plain": [
       "<Waffle size 864x756 with 1 Axes>"
      ]
     },
     "metadata": {},
     "output_type": "display_data"
    }
   ],
   "source": [
    "fig = plt.figure(\n",
    "    FigureClass=Waffle, \n",
    "    rows=5, \n",
    "    values=data, \n",
    "    colors=(\"#983D3D\", \"#232066\", \"#DCB732\", \"blue\"),\n",
    "    title={'label': 'Distribution of named entities in the whole dataset (all tweets)', 'loc': 'left'},\n",
    "    labels=[\"{0} ({1}%)\".format(k, v) for k, v in data.items()],\n",
    "    legend={'loc': 'lower left', 'bbox_to_anchor': (0, -0.4), 'ncol': len(data), 'framealpha': 0}\n",
    ")\n",
    "fig.gca().set_facecolor('#EEEEEE')\n",
    "fig.set_facecolor('#EEEEEE')\n",
    "fig.set_size_inches(12, 10.5, forward=True)\n",
    "fig.set_tight_layout(False)\n",
    "plt.show()"
   ]
  },
  {
   "cell_type": "code",
   "execution_count": 59,
   "metadata": {},
   "outputs": [
    {
     "data": {
      "text/plain": [
       "ner_organization_count    0.507443\n",
       "ner_person_count          0.408387\n",
       "ner_gpe_count             0.242950\n",
       "ner_facility_count        0.010082\n",
       "ner_gsp_count             0.006960\n",
       "dtype: float64"
      ]
     },
     "execution_count": 59,
     "metadata": {},
     "output_type": "execute_result"
    }
   ],
   "source": [
    "ner_columns = ['ner_organization_count', 'ner_gsp_count', 'ner_facility_count', 'ner_gpe_count', \n",
    "         'ner_person_count']\n",
    "\n",
    "dataset.groupby(['screen_name'])[ner_columns].agg('mean').agg('mean').sort_values(ascending=False)"
   ]
  },
  {
   "cell_type": "markdown",
   "metadata": {},
   "source": [
    "Conclusions:\n",
    "    - as is visible on two of used method (chart and numerical inforamtion) In the dataset the most popular words concerns organisation, soon after it person related words. Also GPE (Geopolitical Entity) related words placed relatively high position"
   ]
  },
  {
   "cell_type": "markdown",
   "metadata": {},
   "source": [
    "## Plot some NLP data"
   ]
  },
  {
   "cell_type": "markdown",
   "metadata": {},
   "source": [
    "### Case: Elon musk (most popular account)"
   ]
  },
  {
   "cell_type": "code",
   "execution_count": 69,
   "metadata": {},
   "outputs": [
    {
     "data": {
      "text/html": [
       "<div>\n",
       "<style scoped>\n",
       "    .dataframe tbody tr th:only-of-type {\n",
       "        vertical-align: middle;\n",
       "    }\n",
       "\n",
       "    .dataframe tbody tr th {\n",
       "        vertical-align: top;\n",
       "    }\n",
       "\n",
       "    .dataframe thead th {\n",
       "        text-align: right;\n",
       "    }\n",
       "</style>\n",
       "<table border=\"1\" class=\"dataframe\">\n",
       "  <thead>\n",
       "    <tr style=\"text-align: right;\">\n",
       "      <th></th>\n",
       "      <th>id</th>\n",
       "      <th>hashtags_count</th>\n",
       "      <th>symbols_count</th>\n",
       "      <th>user_mentions_count</th>\n",
       "      <th>urls_count</th>\n",
       "      <th>contributors</th>\n",
       "      <th>retweet_count</th>\n",
       "      <th>favorite_count</th>\n",
       "      <th>delta_followers</th>\n",
       "      <th>followers_count</th>\n",
       "      <th>...</th>\n",
       "      <th>NNS</th>\n",
       "      <th>EX</th>\n",
       "      <th>FW</th>\n",
       "      <th>TO</th>\n",
       "      <th>ner_person_count</th>\n",
       "      <th>ner_gpe_count</th>\n",
       "      <th>ner_location_count</th>\n",
       "      <th>ner_facility_count</th>\n",
       "      <th>ner_gsp_count</th>\n",
       "      <th>ner_organization_count</th>\n",
       "    </tr>\n",
       "  </thead>\n",
       "  <tbody>\n",
       "    <tr>\n",
       "      <th>count</th>\n",
       "      <td>2.100000e+01</td>\n",
       "      <td>21.0</td>\n",
       "      <td>21.0</td>\n",
       "      <td>21.000000</td>\n",
       "      <td>21.000000</td>\n",
       "      <td>0.0</td>\n",
       "      <td>21.000000</td>\n",
       "      <td>21.000000</td>\n",
       "      <td>21.000000</td>\n",
       "      <td>2.100000e+01</td>\n",
       "      <td>...</td>\n",
       "      <td>21.000000</td>\n",
       "      <td>21.000000</td>\n",
       "      <td>21.0</td>\n",
       "      <td>21.000000</td>\n",
       "      <td>21.000000</td>\n",
       "      <td>21.000000</td>\n",
       "      <td>21.0</td>\n",
       "      <td>21.0</td>\n",
       "      <td>21.0</td>\n",
       "      <td>21.000000</td>\n",
       "    </tr>\n",
       "    <tr>\n",
       "      <th>mean</th>\n",
       "      <td>1.033822e+18</td>\n",
       "      <td>0.0</td>\n",
       "      <td>0.0</td>\n",
       "      <td>1.857143</td>\n",
       "      <td>0.190476</td>\n",
       "      <td>NaN</td>\n",
       "      <td>2148.761905</td>\n",
       "      <td>15268.857143</td>\n",
       "      <td>6850.190476</td>\n",
       "      <td>2.239517e+07</td>\n",
       "      <td>...</td>\n",
       "      <td>0.761905</td>\n",
       "      <td>0.047619</td>\n",
       "      <td>0.0</td>\n",
       "      <td>0.428571</td>\n",
       "      <td>0.619048</td>\n",
       "      <td>0.095238</td>\n",
       "      <td>0.0</td>\n",
       "      <td>0.0</td>\n",
       "      <td>0.0</td>\n",
       "      <td>0.428571</td>\n",
       "    </tr>\n",
       "    <tr>\n",
       "      <th>std</th>\n",
       "      <td>2.437707e+15</td>\n",
       "      <td>0.0</td>\n",
       "      <td>0.0</td>\n",
       "      <td>1.492840</td>\n",
       "      <td>0.402374</td>\n",
       "      <td>NaN</td>\n",
       "      <td>3183.949888</td>\n",
       "      <td>25272.692111</td>\n",
       "      <td>6014.689540</td>\n",
       "      <td>3.902509e+04</td>\n",
       "      <td>...</td>\n",
       "      <td>1.261141</td>\n",
       "      <td>0.218218</td>\n",
       "      <td>0.0</td>\n",
       "      <td>0.810643</td>\n",
       "      <td>1.023533</td>\n",
       "      <td>0.300793</td>\n",
       "      <td>0.0</td>\n",
       "      <td>0.0</td>\n",
       "      <td>0.0</td>\n",
       "      <td>0.870140</td>\n",
       "    </tr>\n",
       "    <tr>\n",
       "      <th>min</th>\n",
       "      <td>1.028986e+18</td>\n",
       "      <td>0.0</td>\n",
       "      <td>0.0</td>\n",
       "      <td>0.000000</td>\n",
       "      <td>0.000000</td>\n",
       "      <td>NaN</td>\n",
       "      <td>35.000000</td>\n",
       "      <td>0.000000</td>\n",
       "      <td>-4370.000000</td>\n",
       "      <td>2.232461e+07</td>\n",
       "      <td>...</td>\n",
       "      <td>0.000000</td>\n",
       "      <td>0.000000</td>\n",
       "      <td>0.0</td>\n",
       "      <td>0.000000</td>\n",
       "      <td>0.000000</td>\n",
       "      <td>0.000000</td>\n",
       "      <td>0.0</td>\n",
       "      <td>0.0</td>\n",
       "      <td>0.0</td>\n",
       "      <td>0.000000</td>\n",
       "    </tr>\n",
       "    <tr>\n",
       "      <th>25%</th>\n",
       "      <td>1.032804e+18</td>\n",
       "      <td>0.0</td>\n",
       "      <td>0.0</td>\n",
       "      <td>1.000000</td>\n",
       "      <td>0.000000</td>\n",
       "      <td>NaN</td>\n",
       "      <td>109.000000</td>\n",
       "      <td>1027.000000</td>\n",
       "      <td>4998.000000</td>\n",
       "      <td>2.238012e+07</td>\n",
       "      <td>...</td>\n",
       "      <td>0.000000</td>\n",
       "      <td>0.000000</td>\n",
       "      <td>0.0</td>\n",
       "      <td>0.000000</td>\n",
       "      <td>0.000000</td>\n",
       "      <td>0.000000</td>\n",
       "      <td>0.0</td>\n",
       "      <td>0.0</td>\n",
       "      <td>0.0</td>\n",
       "      <td>0.000000</td>\n",
       "    </tr>\n",
       "    <tr>\n",
       "      <th>50%</th>\n",
       "      <td>1.033493e+18</td>\n",
       "      <td>0.0</td>\n",
       "      <td>0.0</td>\n",
       "      <td>1.000000</td>\n",
       "      <td>0.000000</td>\n",
       "      <td>NaN</td>\n",
       "      <td>616.000000</td>\n",
       "      <td>1640.000000</td>\n",
       "      <td>5340.000000</td>\n",
       "      <td>2.238546e+07</td>\n",
       "      <td>...</td>\n",
       "      <td>0.000000</td>\n",
       "      <td>0.000000</td>\n",
       "      <td>0.0</td>\n",
       "      <td>0.000000</td>\n",
       "      <td>0.000000</td>\n",
       "      <td>0.000000</td>\n",
       "      <td>0.0</td>\n",
       "      <td>0.0</td>\n",
       "      <td>0.0</td>\n",
       "      <td>0.000000</td>\n",
       "    </tr>\n",
       "    <tr>\n",
       "      <th>75%</th>\n",
       "      <td>1.034483e+18</td>\n",
       "      <td>0.0</td>\n",
       "      <td>0.0</td>\n",
       "      <td>3.000000</td>\n",
       "      <td>0.000000</td>\n",
       "      <td>NaN</td>\n",
       "      <td>3946.000000</td>\n",
       "      <td>16431.000000</td>\n",
       "      <td>6552.000000</td>\n",
       "      <td>2.240543e+07</td>\n",
       "      <td>...</td>\n",
       "      <td>1.000000</td>\n",
       "      <td>0.000000</td>\n",
       "      <td>0.0</td>\n",
       "      <td>1.000000</td>\n",
       "      <td>1.000000</td>\n",
       "      <td>0.000000</td>\n",
       "      <td>0.0</td>\n",
       "      <td>0.0</td>\n",
       "      <td>0.0</td>\n",
       "      <td>0.000000</td>\n",
       "    </tr>\n",
       "    <tr>\n",
       "      <th>max</th>\n",
       "      <td>1.038526e+18</td>\n",
       "      <td>0.0</td>\n",
       "      <td>0.0</td>\n",
       "      <td>5.000000</td>\n",
       "      <td>1.000000</td>\n",
       "      <td>NaN</td>\n",
       "      <td>13299.000000</td>\n",
       "      <td>100947.000000</td>\n",
       "      <td>29745.000000</td>\n",
       "      <td>2.248343e+07</td>\n",
       "      <td>...</td>\n",
       "      <td>5.000000</td>\n",
       "      <td>1.000000</td>\n",
       "      <td>0.0</td>\n",
       "      <td>3.000000</td>\n",
       "      <td>3.000000</td>\n",
       "      <td>1.000000</td>\n",
       "      <td>0.0</td>\n",
       "      <td>0.0</td>\n",
       "      <td>0.0</td>\n",
       "      <td>3.000000</td>\n",
       "    </tr>\n",
       "  </tbody>\n",
       "</table>\n",
       "<p>8 rows × 59 columns</p>\n",
       "</div>"
      ],
      "text/plain": [
       "                 id  hashtags_count  symbols_count  user_mentions_count  \\\n",
       "count  2.100000e+01            21.0           21.0            21.000000   \n",
       "mean   1.033822e+18             0.0            0.0             1.857143   \n",
       "std    2.437707e+15             0.0            0.0             1.492840   \n",
       "min    1.028986e+18             0.0            0.0             0.000000   \n",
       "25%    1.032804e+18             0.0            0.0             1.000000   \n",
       "50%    1.033493e+18             0.0            0.0             1.000000   \n",
       "75%    1.034483e+18             0.0            0.0             3.000000   \n",
       "max    1.038526e+18             0.0            0.0             5.000000   \n",
       "\n",
       "       urls_count  contributors  retweet_count  favorite_count  \\\n",
       "count   21.000000           0.0      21.000000       21.000000   \n",
       "mean     0.190476           NaN    2148.761905    15268.857143   \n",
       "std      0.402374           NaN    3183.949888    25272.692111   \n",
       "min      0.000000           NaN      35.000000        0.000000   \n",
       "25%      0.000000           NaN     109.000000     1027.000000   \n",
       "50%      0.000000           NaN     616.000000     1640.000000   \n",
       "75%      0.000000           NaN    3946.000000    16431.000000   \n",
       "max      1.000000           NaN   13299.000000   100947.000000   \n",
       "\n",
       "       delta_followers  followers_count           ...                  NNS  \\\n",
       "count        21.000000     2.100000e+01           ...            21.000000   \n",
       "mean       6850.190476     2.239517e+07           ...             0.761905   \n",
       "std        6014.689540     3.902509e+04           ...             1.261141   \n",
       "min       -4370.000000     2.232461e+07           ...             0.000000   \n",
       "25%        4998.000000     2.238012e+07           ...             0.000000   \n",
       "50%        5340.000000     2.238546e+07           ...             0.000000   \n",
       "75%        6552.000000     2.240543e+07           ...             1.000000   \n",
       "max       29745.000000     2.248343e+07           ...             5.000000   \n",
       "\n",
       "              EX    FW         TO  ner_person_count  ner_gpe_count  \\\n",
       "count  21.000000  21.0  21.000000         21.000000      21.000000   \n",
       "mean    0.047619   0.0   0.428571          0.619048       0.095238   \n",
       "std     0.218218   0.0   0.810643          1.023533       0.300793   \n",
       "min     0.000000   0.0   0.000000          0.000000       0.000000   \n",
       "25%     0.000000   0.0   0.000000          0.000000       0.000000   \n",
       "50%     0.000000   0.0   0.000000          0.000000       0.000000   \n",
       "75%     0.000000   0.0   1.000000          1.000000       0.000000   \n",
       "max     1.000000   0.0   3.000000          3.000000       1.000000   \n",
       "\n",
       "       ner_location_count  ner_facility_count  ner_gsp_count  \\\n",
       "count                21.0                21.0           21.0   \n",
       "mean                  0.0                 0.0            0.0   \n",
       "std                   0.0                 0.0            0.0   \n",
       "min                   0.0                 0.0            0.0   \n",
       "25%                   0.0                 0.0            0.0   \n",
       "50%                   0.0                 0.0            0.0   \n",
       "75%                   0.0                 0.0            0.0   \n",
       "max                   0.0                 0.0            0.0   \n",
       "\n",
       "       ner_organization_count  \n",
       "count               21.000000  \n",
       "mean                 0.428571  \n",
       "std                  0.870140  \n",
       "min                  0.000000  \n",
       "25%                  0.000000  \n",
       "50%                  0.000000  \n",
       "75%                  0.000000  \n",
       "max                  3.000000  \n",
       "\n",
       "[8 rows x 59 columns]"
      ]
     },
     "execution_count": 69,
     "metadata": {},
     "output_type": "execute_result"
    }
   ],
   "source": [
    "dataset[(dataset.screen_name == 'elonmusk') & (dataset.sentiment < 0)].describe()"
   ]
  },
  {
   "cell_type": "code",
   "execution_count": 61,
   "metadata": {},
   "outputs": [],
   "source": [
    "elon = dataset[dataset.screen_name == 'elonmusk']"
   ]
  },
  {
   "cell_type": "code",
   "execution_count": 62,
   "metadata": {},
   "outputs": [],
   "source": [
    "elon['week'] = elon.apply(lambda x: f\"W{x['created_at'].isocalendar()[1]}\", axis=1)\n",
    "\n",
    "# here i am adding column with week number"
   ]
  },
  {
   "cell_type": "code",
   "execution_count": 64,
   "metadata": {},
   "outputs": [
    {
     "data": {
      "text/html": [
       "<div>\n",
       "<style scoped>\n",
       "    .dataframe tbody tr th:only-of-type {\n",
       "        vertical-align: middle;\n",
       "    }\n",
       "\n",
       "    .dataframe tbody tr th {\n",
       "        vertical-align: top;\n",
       "    }\n",
       "\n",
       "    .dataframe thead th {\n",
       "        text-align: right;\n",
       "    }\n",
       "</style>\n",
       "<table border=\"1\" class=\"dataframe\">\n",
       "  <thead>\n",
       "    <tr style=\"text-align: right;\">\n",
       "      <th></th>\n",
       "      <th>mean</th>\n",
       "    </tr>\n",
       "    <tr>\n",
       "      <th>week</th>\n",
       "      <th></th>\n",
       "    </tr>\n",
       "  </thead>\n",
       "  <tbody>\n",
       "    <tr>\n",
       "      <th>W32</th>\n",
       "      <td>0.246250</td>\n",
       "    </tr>\n",
       "    <tr>\n",
       "      <th>W33</th>\n",
       "      <td>0.212732</td>\n",
       "    </tr>\n",
       "    <tr>\n",
       "      <th>W34</th>\n",
       "      <td>0.156200</td>\n",
       "    </tr>\n",
       "    <tr>\n",
       "      <th>W35</th>\n",
       "      <td>0.118259</td>\n",
       "    </tr>\n",
       "    <tr>\n",
       "      <th>W36</th>\n",
       "      <td>0.072717</td>\n",
       "    </tr>\n",
       "  </tbody>\n",
       "</table>\n",
       "</div>"
      ],
      "text/plain": [
       "          mean\n",
       "week          \n",
       "W32   0.246250\n",
       "W33   0.212732\n",
       "W34   0.156200\n",
       "W35   0.118259\n",
       "W36   0.072717"
      ]
     },
     "execution_count": 64,
     "metadata": {},
     "output_type": "execute_result"
    }
   ],
   "source": [
    "musk_weeks = elon.groupby(['week']).sentiment.agg(['mean'])\n",
    "musk_weeks"
   ]
  },
  {
   "cell_type": "code",
   "execution_count": 67,
   "metadata": {},
   "outputs": [
    {
     "data": {
      "application/vnd.plotly.v1+json": {
       "data": [
        {
         "boxpoints": "all",
         "name": "Week 32",
         "type": "box",
         "uid": "ca37ff02-bb76-11e8-82df-689423eb5559",
         "y": [
          0,
          0,
          0,
          0,
          0,
          0,
          0,
          0,
          0,
          0,
          0,
          0,
          0,
          0,
          0,
          0,
          0,
          0,
          0,
          0
         ]
        },
        {
         "boxpoints": "all",
         "name": "Week 33",
         "type": "box",
         "uid": "ca37ff03-bb76-11e8-84f5-689423eb5559",
         "y": [
          0,
          0.075,
          0,
          0,
          0,
          0,
          0,
          0.51,
          0,
          0.123,
          0,
          0,
          0,
          0,
          0,
          0,
          0,
          0,
          0,
          0,
          0.39,
          0
         ]
        },
        {
         "boxpoints": "all",
         "name": "Week 34",
         "type": "box",
         "uid": "ca37ff04-bb76-11e8-bc0e-689423eb5559",
         "y": [
          0.057,
          0,
          0.07,
          0.091,
          0.115,
          0.235,
          0,
          0.093,
          0,
          0.064,
          0,
          0,
          0,
          0.38,
          0,
          0,
          0,
          0,
          0.262,
          0.095,
          0,
          0.052,
          0,
          0,
          0,
          0,
          0.08,
          0,
          0,
          0,
          0.281,
          0,
          0,
          0,
          0.259,
          0
         ]
        },
        {
         "boxpoints": "all",
         "name": "Week 35",
         "type": "box",
         "uid": "ca37ff05-bb76-11e8-a47a-689423eb5559",
         "y": [
          0,
          0.037,
          0.149,
          0.134,
          0,
          0,
          0,
          0,
          0,
          0.218,
          0.165,
          0.194,
          0.068,
          0,
          0.194,
          0,
          0
         ]
        },
        {
         "boxpoints": "all",
         "name": "Week 36",
         "type": "box",
         "uid": "ca37ff06-bb76-11e8-b466-689423eb5559",
         "y": [
          0,
          0.091,
          0.277,
          0.123,
          0,
          0,
          0,
          0.163,
          0,
          0,
          0,
          0,
          0,
          0,
          0.084,
          0,
          0.107,
          0
         ]
        }
       ],
       "layout": {
        "title": "Elon Musk's negative sentiment over weeks"
       }
      },
      "text/html": [
       "<div id=\"b8717165-842c-45ca-9e22-768aef95c3a3\" style=\"height: 525px; width: 100%;\" class=\"plotly-graph-div\"></div><script type=\"text/javascript\">require([\"plotly\"], function(Plotly) { window.PLOTLYENV=window.PLOTLYENV || {};window.PLOTLYENV.BASE_URL=\"https://plot.ly\";Plotly.newPlot(\"b8717165-842c-45ca-9e22-768aef95c3a3\", [{\"boxpoints\": \"all\", \"name\": \"Week 32\", \"y\": [0.0, 0.0, 0.0, 0.0, 0.0, 0.0, 0.0, 0.0, 0.0, 0.0, 0.0, 0.0, 0.0, 0.0, 0.0, 0.0, 0.0, 0.0, 0.0, 0.0], \"type\": \"box\", \"uid\": \"ca37ff02-bb76-11e8-82df-689423eb5559\"}, {\"boxpoints\": \"all\", \"name\": \"Week 33\", \"y\": [0.0, 0.075, 0.0, 0.0, 0.0, 0.0, 0.0, 0.51, 0.0, 0.123, 0.0, 0.0, 0.0, 0.0, 0.0, 0.0, 0.0, 0.0, 0.0, 0.0, 0.39, 0.0], \"type\": \"box\", \"uid\": \"ca37ff03-bb76-11e8-84f5-689423eb5559\"}, {\"boxpoints\": \"all\", \"name\": \"Week 34\", \"y\": [0.057, 0.0, 0.07, 0.091, 0.115, 0.235, 0.0, 0.093, 0.0, 0.064, 0.0, 0.0, 0.0, 0.38, 0.0, 0.0, 0.0, 0.0, 0.262, 0.095, 0.0, 0.052, 0.0, 0.0, 0.0, 0.0, 0.08, 0.0, 0.0, 0.0, 0.281, 0.0, 0.0, 0.0, 0.259, 0.0], \"type\": \"box\", \"uid\": \"ca37ff04-bb76-11e8-bc0e-689423eb5559\"}, {\"boxpoints\": \"all\", \"name\": \"Week 35\", \"y\": [0.0, 0.037, 0.149, 0.134, 0.0, 0.0, 0.0, 0.0, 0.0, 0.218, 0.165, 0.194, 0.068, 0.0, 0.194, 0.0, 0.0], \"type\": \"box\", \"uid\": \"ca37ff05-bb76-11e8-a47a-689423eb5559\"}, {\"boxpoints\": \"all\", \"name\": \"Week 36\", \"y\": [0.0, 0.091, 0.277, 0.123, 0.0, 0.0, 0.0, 0.163, 0.0, 0.0, 0.0, 0.0, 0.0, 0.0, 0.084, 0.0, 0.107, 0.0], \"type\": \"box\", \"uid\": \"ca37ff06-bb76-11e8-b466-689423eb5559\"}], {\"title\": \"Elon Musk's negative sentiment over weeks\"}, {\"showLink\": true, \"linkText\": \"Export to plot.ly\"})});</script>"
      ],
      "text/vnd.plotly.v1+html": [
       "<div id=\"b8717165-842c-45ca-9e22-768aef95c3a3\" style=\"height: 525px; width: 100%;\" class=\"plotly-graph-div\"></div><script type=\"text/javascript\">require([\"plotly\"], function(Plotly) { window.PLOTLYENV=window.PLOTLYENV || {};window.PLOTLYENV.BASE_URL=\"https://plot.ly\";Plotly.newPlot(\"b8717165-842c-45ca-9e22-768aef95c3a3\", [{\"boxpoints\": \"all\", \"name\": \"Week 32\", \"y\": [0.0, 0.0, 0.0, 0.0, 0.0, 0.0, 0.0, 0.0, 0.0, 0.0, 0.0, 0.0, 0.0, 0.0, 0.0, 0.0, 0.0, 0.0, 0.0, 0.0], \"type\": \"box\", \"uid\": \"ca37ff02-bb76-11e8-82df-689423eb5559\"}, {\"boxpoints\": \"all\", \"name\": \"Week 33\", \"y\": [0.0, 0.075, 0.0, 0.0, 0.0, 0.0, 0.0, 0.51, 0.0, 0.123, 0.0, 0.0, 0.0, 0.0, 0.0, 0.0, 0.0, 0.0, 0.0, 0.0, 0.39, 0.0], \"type\": \"box\", \"uid\": \"ca37ff03-bb76-11e8-84f5-689423eb5559\"}, {\"boxpoints\": \"all\", \"name\": \"Week 34\", \"y\": [0.057, 0.0, 0.07, 0.091, 0.115, 0.235, 0.0, 0.093, 0.0, 0.064, 0.0, 0.0, 0.0, 0.38, 0.0, 0.0, 0.0, 0.0, 0.262, 0.095, 0.0, 0.052, 0.0, 0.0, 0.0, 0.0, 0.08, 0.0, 0.0, 0.0, 0.281, 0.0, 0.0, 0.0, 0.259, 0.0], \"type\": \"box\", \"uid\": \"ca37ff04-bb76-11e8-bc0e-689423eb5559\"}, {\"boxpoints\": \"all\", \"name\": \"Week 35\", \"y\": [0.0, 0.037, 0.149, 0.134, 0.0, 0.0, 0.0, 0.0, 0.0, 0.218, 0.165, 0.194, 0.068, 0.0, 0.194, 0.0, 0.0], \"type\": \"box\", \"uid\": \"ca37ff05-bb76-11e8-a47a-689423eb5559\"}, {\"boxpoints\": \"all\", \"name\": \"Week 36\", \"y\": [0.0, 0.091, 0.277, 0.123, 0.0, 0.0, 0.0, 0.163, 0.0, 0.0, 0.0, 0.0, 0.0, 0.0, 0.084, 0.0, 0.107, 0.0], \"type\": \"box\", \"uid\": \"ca37ff06-bb76-11e8-b466-689423eb5559\"}], {\"title\": \"Elon Musk's negative sentiment over weeks\"}, {\"showLink\": true, \"linkText\": \"Export to plot.ly\"})});</script>"
      ]
     },
     "metadata": {},
     "output_type": "display_data"
    }
   ],
   "source": [
    "traceW32 = go.Box(\n",
    "    y=elon.groupby(['week']).get_group(\"W32\").neg_sentiment.tolist(),\n",
    "    boxpoints='all',\n",
    "    name='Week 32'\n",
    ")\n",
    "traceW33 = go.Box(\n",
    "    y=elon.groupby(['week']).get_group(\"W33\").neg_sentiment.tolist(),\n",
    "    boxpoints='all',\n",
    "    name='Week 33'\n",
    ")\n",
    "traceW34 = go.Box(\n",
    "    y=elon.groupby(['week']).get_group(\"W34\").neg_sentiment.tolist(),\n",
    "    boxpoints='all',\n",
    "    name='Week 34'\n",
    ")\n",
    "traceW35 = go.Box(\n",
    "    y=elon.groupby(['week']).get_group(\"W35\").neg_sentiment.tolist(),\n",
    "    boxpoints='all',\n",
    "    name='Week 35'\n",
    ")\n",
    "traceW36 = go.Box(\n",
    "    y=elon.groupby(['week']).get_group(\"W36\").neg_sentiment.tolist(),\n",
    "    boxpoints='all',\n",
    "    name='Week 36'\n",
    ")\n",
    "\n",
    "data = [traceW32, traceW33, traceW34, traceW35, traceW36]\n",
    "\n",
    "layout = go.Layout(\n",
    "    title = \"Elon Musk's negative sentiment over weeks\"\n",
    ")\n",
    "\n",
    "fig = go.Figure(data=data,layout=layout)\n",
    "\n",
    "iplot(fig)"
   ]
  },
  {
   "cell_type": "markdown",
   "metadata": {},
   "source": [
    "Conclusions: \n",
    "\n",
    "- Plot shows that some weeks produce more or less negative content in the tweets\n",
    "- there is also some significant variance in emotional load in the text. \n",
    "- There were weeks almost without negative tweets (week 32 and 33)\n",
    "- Week 35 was contained the most negative tweets"
   ]
  },
  {
   "cell_type": "code",
   "execution_count": 70,
   "metadata": {},
   "outputs": [
    {
     "data": {
      "application/vnd.plotly.v1+json": {
       "data": [
        {
         "boxpoints": "all",
         "name": "Week 32",
         "type": "box",
         "uid": "d9dd0b68-bb78-11e8-8760-689423eb5559",
         "y": [
          0,
          0.453,
          0.412,
          0.061,
          0.559,
          0.167,
          0,
          0,
          0,
          0,
          0,
          0.375,
          0,
          0,
          0,
          0,
          0,
          0.451,
          0.214,
          0
         ]
        },
        {
         "boxpoints": "all",
         "name": "Week 33",
         "type": "box",
         "uid": "d9dd0b69-bb78-11e8-9efd-689423eb5559",
         "y": [
          0,
          0,
          0.591,
          0.594,
          0.247,
          0,
          0.142,
          0,
          0.448,
          0.128,
          0.16,
          0,
          0,
          0,
          0,
          0,
          0.052,
          0.106,
          0.163,
          0,
          0,
          0.313
         ]
        },
        {
         "boxpoints": "all",
         "name": "Week 34",
         "type": "box",
         "uid": "d9dd0b6a-bb78-11e8-bae7-689423eb5559",
         "y": [
          0.354,
          0.116,
          0,
          0,
          0,
          0.123,
          0,
          0.176,
          0,
          0.073,
          0.312,
          0,
          0,
          0.25,
          0,
          0.237,
          0.264,
          0.365,
          0.165,
          0,
          0.688,
          0.287,
          0.305,
          0,
          0.306,
          0.505,
          0.343,
          0,
          0.73,
          0,
          0,
          0,
          0,
          0,
          0,
          0
         ]
        },
        {
         "boxpoints": "all",
         "name": "Week 35",
         "type": "box",
         "uid": "d9dd0b6b-bb78-11e8-9a33-689423eb5559",
         "y": [
          0.088,
          0.09,
          0.307,
          0,
          0,
          0,
          0.697,
          0,
          0,
          0.076,
          0,
          0,
          0.18,
          0.314,
          0,
          0.726,
          0.245
         ]
        },
        {
         "boxpoints": "all",
         "name": "Week 36",
         "type": "box",
         "uid": "d9dd0b6c-bb78-11e8-a61b-689423eb5559",
         "y": [
          0.535,
          0.105,
          0,
          0.123,
          0.333,
          0,
          0.263,
          0,
          0,
          0.42,
          0,
          0,
          0,
          0,
          0.073,
          0.36,
          0.097,
          0
         ]
        }
       ],
       "layout": {
        "title": "Elon Musk's positive sentiment over weeks"
       }
      },
      "text/html": [
       "<div id=\"f32c41cc-1e11-4ef0-b00c-5f13075a71b8\" style=\"height: 525px; width: 100%;\" class=\"plotly-graph-div\"></div><script type=\"text/javascript\">require([\"plotly\"], function(Plotly) { window.PLOTLYENV=window.PLOTLYENV || {};window.PLOTLYENV.BASE_URL=\"https://plot.ly\";Plotly.newPlot(\"f32c41cc-1e11-4ef0-b00c-5f13075a71b8\", [{\"boxpoints\": \"all\", \"name\": \"Week 32\", \"y\": [0.0, 0.453, 0.412, 0.061, 0.559, 0.167, 0.0, 0.0, 0.0, 0.0, 0.0, 0.375, 0.0, 0.0, 0.0, 0.0, 0.0, 0.451, 0.214, 0.0], \"type\": \"box\", \"uid\": \"d9dd0b68-bb78-11e8-8760-689423eb5559\"}, {\"boxpoints\": \"all\", \"name\": \"Week 33\", \"y\": [0.0, 0.0, 0.591, 0.594, 0.247, 0.0, 0.142, 0.0, 0.448, 0.128, 0.16, 0.0, 0.0, 0.0, 0.0, 0.0, 0.052, 0.106, 0.163, 0.0, 0.0, 0.313], \"type\": \"box\", \"uid\": \"d9dd0b69-bb78-11e8-9efd-689423eb5559\"}, {\"boxpoints\": \"all\", \"name\": \"Week 34\", \"y\": [0.354, 0.116, 0.0, 0.0, 0.0, 0.123, 0.0, 0.176, 0.0, 0.073, 0.312, 0.0, 0.0, 0.25, 0.0, 0.237, 0.264, 0.365, 0.165, 0.0, 0.688, 0.287, 0.305, 0.0, 0.306, 0.505, 0.343, 0.0, 0.73, 0.0, 0.0, 0.0, 0.0, 0.0, 0.0, 0.0], \"type\": \"box\", \"uid\": \"d9dd0b6a-bb78-11e8-bae7-689423eb5559\"}, {\"boxpoints\": \"all\", \"name\": \"Week 35\", \"y\": [0.088, 0.09, 0.307, 0.0, 0.0, 0.0, 0.697, 0.0, 0.0, 0.076, 0.0, 0.0, 0.18, 0.314, 0.0, 0.726, 0.245], \"type\": \"box\", \"uid\": \"d9dd0b6b-bb78-11e8-9a33-689423eb5559\"}, {\"boxpoints\": \"all\", \"name\": \"Week 36\", \"y\": [0.535, 0.105, 0.0, 0.123, 0.333, 0.0, 0.263, 0.0, 0.0, 0.42, 0.0, 0.0, 0.0, 0.0, 0.073, 0.36, 0.097, 0.0], \"type\": \"box\", \"uid\": \"d9dd0b6c-bb78-11e8-a61b-689423eb5559\"}], {\"title\": \"Elon Musk's positive sentiment over weeks\"}, {\"showLink\": true, \"linkText\": \"Export to plot.ly\"})});</script>"
      ],
      "text/vnd.plotly.v1+html": [
       "<div id=\"f32c41cc-1e11-4ef0-b00c-5f13075a71b8\" style=\"height: 525px; width: 100%;\" class=\"plotly-graph-div\"></div><script type=\"text/javascript\">require([\"plotly\"], function(Plotly) { window.PLOTLYENV=window.PLOTLYENV || {};window.PLOTLYENV.BASE_URL=\"https://plot.ly\";Plotly.newPlot(\"f32c41cc-1e11-4ef0-b00c-5f13075a71b8\", [{\"boxpoints\": \"all\", \"name\": \"Week 32\", \"y\": [0.0, 0.453, 0.412, 0.061, 0.559, 0.167, 0.0, 0.0, 0.0, 0.0, 0.0, 0.375, 0.0, 0.0, 0.0, 0.0, 0.0, 0.451, 0.214, 0.0], \"type\": \"box\", \"uid\": \"d9dd0b68-bb78-11e8-8760-689423eb5559\"}, {\"boxpoints\": \"all\", \"name\": \"Week 33\", \"y\": [0.0, 0.0, 0.591, 0.594, 0.247, 0.0, 0.142, 0.0, 0.448, 0.128, 0.16, 0.0, 0.0, 0.0, 0.0, 0.0, 0.052, 0.106, 0.163, 0.0, 0.0, 0.313], \"type\": \"box\", \"uid\": \"d9dd0b69-bb78-11e8-9efd-689423eb5559\"}, {\"boxpoints\": \"all\", \"name\": \"Week 34\", \"y\": [0.354, 0.116, 0.0, 0.0, 0.0, 0.123, 0.0, 0.176, 0.0, 0.073, 0.312, 0.0, 0.0, 0.25, 0.0, 0.237, 0.264, 0.365, 0.165, 0.0, 0.688, 0.287, 0.305, 0.0, 0.306, 0.505, 0.343, 0.0, 0.73, 0.0, 0.0, 0.0, 0.0, 0.0, 0.0, 0.0], \"type\": \"box\", \"uid\": \"d9dd0b6a-bb78-11e8-bae7-689423eb5559\"}, {\"boxpoints\": \"all\", \"name\": \"Week 35\", \"y\": [0.088, 0.09, 0.307, 0.0, 0.0, 0.0, 0.697, 0.0, 0.0, 0.076, 0.0, 0.0, 0.18, 0.314, 0.0, 0.726, 0.245], \"type\": \"box\", \"uid\": \"d9dd0b6b-bb78-11e8-9a33-689423eb5559\"}, {\"boxpoints\": \"all\", \"name\": \"Week 36\", \"y\": [0.535, 0.105, 0.0, 0.123, 0.333, 0.0, 0.263, 0.0, 0.0, 0.42, 0.0, 0.0, 0.0, 0.0, 0.073, 0.36, 0.097, 0.0], \"type\": \"box\", \"uid\": \"d9dd0b6c-bb78-11e8-a61b-689423eb5559\"}], {\"title\": \"Elon Musk's positive sentiment over weeks\"}, {\"showLink\": true, \"linkText\": \"Export to plot.ly\"})});</script>"
      ]
     },
     "metadata": {},
     "output_type": "display_data"
    }
   ],
   "source": [
    "traceW32 = go.Box(\n",
    "    y=elon.groupby(['week']).get_group(\"W32\").pos_sentiment.tolist(),\n",
    "    boxpoints='all',\n",
    "    name='Week 32'\n",
    ")\n",
    "traceW33 = go.Box(\n",
    "    y=elon.groupby(['week']).get_group(\"W33\").pos_sentiment.tolist(),\n",
    "    boxpoints='all',\n",
    "    name='Week 33'\n",
    ")\n",
    "traceW34 = go.Box(\n",
    "    y=elon.groupby(['week']).get_group(\"W34\").pos_sentiment.tolist(),\n",
    "    boxpoints='all',\n",
    "    name='Week 34'\n",
    ")\n",
    "traceW35 = go.Box(\n",
    "    y=elon.groupby(['week']).get_group(\"W35\").pos_sentiment.tolist(),\n",
    "    boxpoints='all',\n",
    "    name='Week 35'\n",
    ")\n",
    "traceW36 = go.Box(\n",
    "    y=elon.groupby(['week']).get_group(\"W36\").pos_sentiment.tolist(),\n",
    "    boxpoints='all',\n",
    "    name='Week 36'\n",
    ")\n",
    "\n",
    "data = [traceW32, traceW33, traceW34, traceW35, traceW36]\n",
    "\n",
    "layout = go.Layout(\n",
    "    title = \"Elon Musk's positive sentiment over weeks\"\n",
    ")\n",
    "\n",
    "fig = go.Figure(data=data,layout=layout)\n",
    "\n",
    "iplot(fig)"
   ]
  },
  {
   "cell_type": "markdown",
   "metadata": {},
   "source": [
    "Conclusions:\n",
    "\n",
    "- Plot shows that some weeks produce more or less positive content in the tweets\n",
    "- Weeks contain similar numer of positive tweets, with no significial changes\n",
    "- Week 33  contained the smaller amount of positive tweets"
   ]
  },
  {
   "cell_type": "code",
   "execution_count": null,
   "metadata": {},
   "outputs": [],
   "source": []
  }
 ],
 "metadata": {
  "kernelspec": {
   "display_name": "Python 3",
   "language": "python",
   "name": "python3"
  },
  "language_info": {
   "codemirror_mode": {
    "name": "ipython",
    "version": 3
   },
   "file_extension": ".py",
   "mimetype": "text/x-python",
   "name": "python",
   "nbconvert_exporter": "python",
   "pygments_lexer": "ipython3",
   "version": "3.6.5"
  }
 },
 "nbformat": 4,
 "nbformat_minor": 2
}
